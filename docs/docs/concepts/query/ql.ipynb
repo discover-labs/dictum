{
 "cells": [
  {
   "cell_type": "markdown",
   "metadata": {},
   "source": [
    "The best way to get a sense of how the Dictum query is structured is learning the query language.\n",
    "It looks similar to SQL and implements all the same structural elements that are used in\n",
    "[Python API](./python.ipynb) and [Altair visualizations](./altair.md).\n",
    "\n",
    "A Dictum query consists of several parts:\n",
    "\n",
    "- Request for one or more metrics\n",
    "- Request for one or more dimensions that we want to group the metrics by\n",
    "    (with optional transforms)\n",
    "- A list of dimension filters to apply\n",
    "- A list of \"limits\" (metric filters) to apply"
   ]
  },
  {
   "cell_type": "markdown",
   "metadata": {},
   "source": [
    "## Setting up Jupyter\n",
    "\n",
    "Let's load an example project first."
   ]
  },
  {
   "cell_type": "code",
   "execution_count": 1,
   "metadata": {},
   "outputs": [],
   "source": [
    "from dictum import Project\n",
    "\n",
    "project = Project.example(\"chinook\")"
   ]
  },
  {
   "cell_type": "markdown",
   "metadata": {},
   "source": [
    "You can use the query language by passing the query to the `ql` method of `Project`:"
   ]
  },
  {
   "cell_type": "code",
   "execution_count": 2,
   "metadata": {},
   "outputs": [
    {
     "data": {
      "text/html": [
       "<table border=\"1\" class=\"dataframe\">\n",
       "  <thead>\n",
       "    <tr style=\"text-align: right;\">\n",
       "      <th></th>\n",
       "      <th>Revenue</th>\n",
       "    </tr>\n",
       "  </thead>\n",
       "  <tbody>\n",
       "    <tr>\n",
       "      <th>0</th>\n",
       "      <td>$2,328.60</td>\n",
       "    </tr>\n",
       "  </tbody>\n",
       "</table>"
      ],
      "text/plain": [
       "<dictum.project.analyses.QlQuery at 0x13d4e7310>"
      ]
     },
     "execution_count": 2,
     "metadata": {},
     "output_type": "execute_result"
    }
   ],
   "source": [
    "project.ql(\"select revenue\")"
   ]
  },
  {
   "cell_type": "markdown",
   "metadata": {},
   "source": [
    "Writing the query as a string is cumbersome, so we can do better: set up Jupyter to\n",
    "understand the queries written directly in the cell.\n",
    "\n",
    "You can use `%ql` magic to write a query in a single line and `%%ql` to mark the whole\n",
    "cell as a query for your project."
   ]
  },
  {
   "cell_type": "code",
   "execution_count": 3,
   "metadata": {},
   "outputs": [
    {
     "name": "stdout",
     "output_type": "stream",
     "text": [
      "The magic is registered, now you can use %ql and %%ql to query Chinook Example project\n"
     ]
    },
    {
     "data": {
      "text/html": [
       "<div>\n",
       "<style scoped>\n",
       "    .dataframe tbody tr th:only-of-type {\n",
       "        vertical-align: middle;\n",
       "    }\n",
       "\n",
       "    .dataframe tbody tr th {\n",
       "        vertical-align: top;\n",
       "    }\n",
       "\n",
       "    .dataframe thead th {\n",
       "        text-align: right;\n",
       "    }\n",
       "</style>\n",
       "<table border=\"1\" class=\"dataframe\">\n",
       "  <thead>\n",
       "    <tr style=\"text-align: right;\">\n",
       "      <th></th>\n",
       "      <th>Revenue</th>\n",
       "    </tr>\n",
       "  </thead>\n",
       "  <tbody>\n",
       "    <tr>\n",
       "      <th>0</th>\n",
       "      <td>$2,328.60</td>\n",
       "    </tr>\n",
       "  </tbody>\n",
       "</table>\n",
       "</div>"
      ],
      "text/plain": [
       "     Revenue\n",
       "0  $2,328.60"
      ]
     },
     "execution_count": 3,
     "metadata": {},
     "output_type": "execute_result"
    }
   ],
   "source": [
    "project.magic()\n",
    "\n",
    "%ql select revenue"
   ]
  },
  {
   "cell_type": "markdown",
   "metadata": {},
   "source": [
    "## Storing query results in a variable\n",
    "\n",
    "`project.ql(...)` returns a special `Ql` object, not a Pandas `DataFrame`. To get the\n",
    "`DataFrame`, use the `df` method."
   ]
  },
  {
   "cell_type": "code",
   "execution_count": 4,
   "metadata": {},
   "outputs": [
    {
     "data": {
      "text/html": [
       "<div>\n",
       "<style scoped>\n",
       "    .dataframe tbody tr th:only-of-type {\n",
       "        vertical-align: middle;\n",
       "    }\n",
       "\n",
       "    .dataframe tbody tr th {\n",
       "        vertical-align: top;\n",
       "    }\n",
       "\n",
       "    .dataframe thead th {\n",
       "        text-align: right;\n",
       "    }\n",
       "</style>\n",
       "<table border=\"1\" class=\"dataframe\">\n",
       "  <thead>\n",
       "    <tr style=\"text-align: right;\">\n",
       "      <th></th>\n",
       "      <th>revenue</th>\n",
       "    </tr>\n",
       "  </thead>\n",
       "  <tbody>\n",
       "    <tr>\n",
       "      <th>0</th>\n",
       "      <td>2328.6</td>\n",
       "    </tr>\n",
       "  </tbody>\n",
       "</table>\n",
       "</div>"
      ],
      "text/plain": [
       "   revenue\n",
       "0   2328.6"
      ]
     },
     "execution_count": 4,
     "metadata": {},
     "output_type": "execute_result"
    }
   ],
   "source": [
    "df = project.ql(\"select revenue\").df()\n",
    "df"
   ]
  },
  {
   "cell_type": "markdown",
   "metadata": {},
   "source": [
    "By default the returned dataframe is not formatted like the query output, because it is\n",
    "assumed that you want to do something with the values. If you want to keep the formatting,\n",
    "use `format=True`. Note that in this case, all values in the dataframe are strings."
   ]
  },
  {
   "cell_type": "code",
   "execution_count": 5,
   "metadata": {},
   "outputs": [
    {
     "data": {
      "text/html": [
       "<div>\n",
       "<style scoped>\n",
       "    .dataframe tbody tr th:only-of-type {\n",
       "        vertical-align: middle;\n",
       "    }\n",
       "\n",
       "    .dataframe tbody tr th {\n",
       "        vertical-align: top;\n",
       "    }\n",
       "\n",
       "    .dataframe thead th {\n",
       "        text-align: right;\n",
       "    }\n",
       "</style>\n",
       "<table border=\"1\" class=\"dataframe\">\n",
       "  <thead>\n",
       "    <tr style=\"text-align: right;\">\n",
       "      <th></th>\n",
       "      <th>Revenue</th>\n",
       "    </tr>\n",
       "  </thead>\n",
       "  <tbody>\n",
       "    <tr>\n",
       "      <th>0</th>\n",
       "      <td>$2,328.60</td>\n",
       "    </tr>\n",
       "  </tbody>\n",
       "</table>\n",
       "</div>"
      ],
      "text/plain": [
       "     Revenue\n",
       "0  $2,328.60"
      ]
     },
     "execution_count": 5,
     "metadata": {},
     "output_type": "execute_result"
    }
   ],
   "source": [
    "df = project.ql(\"select revenue\").df(format=True)\n",
    "df"
   ]
  },
  {
   "cell_type": "markdown",
   "metadata": {},
   "source": [
    "When you're using the `%%ql` magic to query Dictum, you can still output the dataframe\n",
    "into a local variable. Just use the `-r` (`--result`) CLI-like argument. If you want to\n",
    "keep the formatting, use `-f` (`--format-result`)."
   ]
  },
  {
   "cell_type": "code",
   "execution_count": 6,
   "metadata": {
    "vscode": {
     "languageId": "sql"
    }
   },
   "outputs": [
    {
     "name": "stdout",
     "output_type": "stream",
     "text": [
      "Returned 1 rows to magic_df\n"
     ]
    }
   ],
   "source": [
    "%%ql -f -r magic_df\n",
    "\n",
    "select revenue"
   ]
  },
  {
   "cell_type": "code",
   "execution_count": 7,
   "metadata": {},
   "outputs": [
    {
     "data": {
      "text/html": [
       "<div>\n",
       "<style scoped>\n",
       "    .dataframe tbody tr th:only-of-type {\n",
       "        vertical-align: middle;\n",
       "    }\n",
       "\n",
       "    .dataframe tbody tr th {\n",
       "        vertical-align: top;\n",
       "    }\n",
       "\n",
       "    .dataframe thead th {\n",
       "        text-align: right;\n",
       "    }\n",
       "</style>\n",
       "<table border=\"1\" class=\"dataframe\">\n",
       "  <thead>\n",
       "    <tr style=\"text-align: right;\">\n",
       "      <th></th>\n",
       "      <th>Revenue</th>\n",
       "    </tr>\n",
       "  </thead>\n",
       "  <tbody>\n",
       "    <tr>\n",
       "      <th>0</th>\n",
       "      <td>$2,328.60</td>\n",
       "    </tr>\n",
       "  </tbody>\n",
       "</table>\n",
       "</div>"
      ],
      "text/plain": [
       "     Revenue\n",
       "0  $2,328.60"
      ]
     },
     "execution_count": 7,
     "metadata": {},
     "output_type": "execute_result"
    }
   ],
   "source": [
    "magic_df"
   ]
  },
  {
   "cell_type": "markdown",
   "metadata": {},
   "source": [
    "## Selecting metrics\n",
    "\n",
    "You can query metrics by listing their identifiers after the `select` keyword, just like\n",
    "you select columns in SQL. You can select any number of metrics, regardless of which\n",
    "tables their source data lives in."
   ]
  },
  {
   "cell_type": "code",
   "execution_count": 8,
   "metadata": {
    "vscode": {
     "languageId": "sql"
    }
   },
   "outputs": [
    {
     "data": {
      "text/html": [
       "<div>\n",
       "<style scoped>\n",
       "    .dataframe tbody tr th:only-of-type {\n",
       "        vertical-align: middle;\n",
       "    }\n",
       "\n",
       "    .dataframe tbody tr th {\n",
       "        vertical-align: top;\n",
       "    }\n",
       "\n",
       "    .dataframe thead th {\n",
       "        text-align: right;\n",
       "    }\n",
       "</style>\n",
       "<table border=\"1\" class=\"dataframe\">\n",
       "  <thead>\n",
       "    <tr style=\"text-align: right;\">\n",
       "      <th></th>\n",
       "      <th>Revenue</th>\n",
       "    </tr>\n",
       "  </thead>\n",
       "  <tbody>\n",
       "    <tr>\n",
       "      <th>0</th>\n",
       "      <td>$2,328.60</td>\n",
       "    </tr>\n",
       "  </tbody>\n",
       "</table>\n",
       "</div>"
      ],
      "text/plain": [
       "     Revenue\n",
       "0  $2,328.60"
      ]
     },
     "execution_count": 8,
     "metadata": {},
     "output_type": "execute_result"
    }
   ],
   "source": [
    "%%ql\n",
    "\n",
    "select revenue"
   ]
  },
  {
   "cell_type": "code",
   "execution_count": 9,
   "metadata": {
    "vscode": {
     "languageId": "sql"
    }
   },
   "outputs": [
    {
     "data": {
      "text/html": [
       "<div>\n",
       "<style scoped>\n",
       "    .dataframe tbody tr th:only-of-type {\n",
       "        vertical-align: middle;\n",
       "    }\n",
       "\n",
       "    .dataframe tbody tr th {\n",
       "        vertical-align: top;\n",
       "    }\n",
       "\n",
       "    .dataframe thead th {\n",
       "        text-align: right;\n",
       "    }\n",
       "</style>\n",
       "<table border=\"1\" class=\"dataframe\">\n",
       "  <thead>\n",
       "    <tr style=\"text-align: right;\">\n",
       "      <th></th>\n",
       "      <th>Revenue</th>\n",
       "      <th>Number of Customers</th>\n",
       "      <th>Unique Paying Customers</th>\n",
       "    </tr>\n",
       "  </thead>\n",
       "  <tbody>\n",
       "    <tr>\n",
       "      <th>0</th>\n",
       "      <td>$2,328.60</td>\n",
       "      <td>59</td>\n",
       "      <td>59</td>\n",
       "    </tr>\n",
       "  </tbody>\n",
       "</table>\n",
       "</div>"
      ],
      "text/plain": [
       "     Revenue Number of Customers Unique Paying Customers\n",
       "0  $2,328.60                  59                      59"
      ]
     },
     "execution_count": 9,
     "metadata": {},
     "output_type": "execute_result"
    }
   ],
   "source": [
    "%%ql\n",
    "\n",
    "select revenue, n_customers, unique_paying_customers"
   ]
  },
  {
   "cell_type": "markdown",
   "metadata": {},
   "source": [
    "Dictum names the columns after the human-readable metrics names defined in the metric\n",
    "config. If you want to override them, set an alias with `as` keyword."
   ]
  },
  {
   "cell_type": "code",
   "execution_count": 10,
   "metadata": {
    "vscode": {
     "languageId": "sql"
    }
   },
   "outputs": [
    {
     "data": {
      "text/html": [
       "<div>\n",
       "<style scoped>\n",
       "    .dataframe tbody tr th:only-of-type {\n",
       "        vertical-align: middle;\n",
       "    }\n",
       "\n",
       "    .dataframe tbody tr th {\n",
       "        vertical-align: top;\n",
       "    }\n",
       "\n",
       "    .dataframe thead th {\n",
       "        text-align: right;\n",
       "    }\n",
       "</style>\n",
       "<table border=\"1\" class=\"dataframe\">\n",
       "  <thead>\n",
       "    <tr style=\"text-align: right;\">\n",
       "      <th></th>\n",
       "      <th>Total Revenue (all time)</th>\n",
       "    </tr>\n",
       "  </thead>\n",
       "  <tbody>\n",
       "    <tr>\n",
       "      <th>0</th>\n",
       "      <td>$2,328.60</td>\n",
       "    </tr>\n",
       "  </tbody>\n",
       "</table>\n",
       "</div>"
      ],
      "text/plain": [
       "  Total Revenue (all time)\n",
       "0                $2,328.60"
      ]
     },
     "execution_count": 10,
     "metadata": {},
     "output_type": "execute_result"
    }
   ],
   "source": [
    "%%ql\n",
    "\n",
    "select revenue as \"Total Revenue (all time)\""
   ]
  },
  {
   "cell_type": "markdown",
   "metadata": {},
   "source": [
    "## Selecting dimensions\n",
    "\n",
    "To add dimensions, list the IDs after the `group by` keyword. The `group` part is optional.\n",
    "Aliases work the same way as with metrics."
   ]
  },
  {
   "cell_type": "code",
   "execution_count": 11,
   "metadata": {
    "vscode": {
     "languageId": "sql"
    }
   },
   "outputs": [
    {
     "data": {
      "text/html": [
       "<div>\n",
       "<style scoped>\n",
       "    .dataframe tbody tr th:only-of-type {\n",
       "        vertical-align: middle;\n",
       "    }\n",
       "\n",
       "    .dataframe tbody tr th {\n",
       "        vertical-align: top;\n",
       "    }\n",
       "\n",
       "    .dataframe thead th {\n",
       "        text-align: right;\n",
       "    }\n",
       "</style>\n",
       "<table border=\"1\" class=\"dataframe\">\n",
       "  <thead>\n",
       "    <tr style=\"text-align: right;\">\n",
       "      <th></th>\n",
       "      <th>Media File's Type</th>\n",
       "      <th>Revenue</th>\n",
       "    </tr>\n",
       "  </thead>\n",
       "  <tbody>\n",
       "    <tr>\n",
       "      <th>0</th>\n",
       "      <td>AAC audio file</td>\n",
       "      <td>$2.97</td>\n",
       "    </tr>\n",
       "    <tr>\n",
       "      <th>1</th>\n",
       "      <td>MPEG audio file</td>\n",
       "      <td>$1,956.24</td>\n",
       "    </tr>\n",
       "    <tr>\n",
       "      <th>2</th>\n",
       "      <td>Protected AAC audio file</td>\n",
       "      <td>$144.54</td>\n",
       "    </tr>\n",
       "    <tr>\n",
       "      <th>3</th>\n",
       "      <td>Protected MPEG-4 video file</td>\n",
       "      <td>$220.89</td>\n",
       "    </tr>\n",
       "    <tr>\n",
       "      <th>4</th>\n",
       "      <td>Purchased AAC audio file</td>\n",
       "      <td>$3.96</td>\n",
       "    </tr>\n",
       "  </tbody>\n",
       "</table>\n",
       "</div>"
      ],
      "text/plain": [
       "             Media File's Type    Revenue\n",
       "0               AAC audio file      $2.97\n",
       "1              MPEG audio file  $1,956.24\n",
       "2     Protected AAC audio file    $144.54\n",
       "3  Protected MPEG-4 video file    $220.89\n",
       "4     Purchased AAC audio file      $3.96"
      ]
     },
     "execution_count": 11,
     "metadata": {},
     "output_type": "execute_result"
    }
   ],
   "source": [
    "%%ql\n",
    "\n",
    "select revenue\n",
    "by media_type as \"Media File's Type\""
   ]
  },
  {
   "cell_type": "markdown",
   "metadata": {},
   "source": [
    "## Filtering\n",
    "\n",
    "Filtering can be done by adding a `where` clause to the query. Each item in the clause\n",
    "must be a dimension reference (possibly transformed) with a boolean value.\n",
    "\n",
    "For example, there's a dimension called `music` that's already boolean:"
   ]
  },
  {
   "cell_type": "code",
   "execution_count": 12,
   "metadata": {
    "vscode": {
     "languageId": "sql"
    }
   },
   "outputs": [
    {
     "data": {
      "text/html": [
       "<div>\n",
       "<style scoped>\n",
       "    .dataframe tbody tr th:only-of-type {\n",
       "        vertical-align: middle;\n",
       "    }\n",
       "\n",
       "    .dataframe tbody tr th {\n",
       "        vertical-align: top;\n",
       "    }\n",
       "\n",
       "    .dataframe thead th {\n",
       "        text-align: right;\n",
       "    }\n",
       "</style>\n",
       "<table border=\"1\" class=\"dataframe\">\n",
       "  <thead>\n",
       "    <tr style=\"text-align: right;\">\n",
       "      <th></th>\n",
       "      <th>Media Type</th>\n",
       "      <th>Revenue</th>\n",
       "    </tr>\n",
       "  </thead>\n",
       "  <tbody>\n",
       "    <tr>\n",
       "      <th>0</th>\n",
       "      <td>AAC audio file</td>\n",
       "      <td>$2.97</td>\n",
       "    </tr>\n",
       "    <tr>\n",
       "      <th>1</th>\n",
       "      <td>MPEG audio file</td>\n",
       "      <td>$1,956.24</td>\n",
       "    </tr>\n",
       "    <tr>\n",
       "      <th>2</th>\n",
       "      <td>Protected AAC audio file</td>\n",
       "      <td>$144.54</td>\n",
       "    </tr>\n",
       "    <tr>\n",
       "      <th>3</th>\n",
       "      <td>Purchased AAC audio file</td>\n",
       "      <td>$3.96</td>\n",
       "    </tr>\n",
       "  </tbody>\n",
       "</table>\n",
       "</div>"
      ],
      "text/plain": [
       "                 Media Type    Revenue\n",
       "0            AAC audio file      $2.97\n",
       "1           MPEG audio file  $1,956.24\n",
       "2  Protected AAC audio file    $144.54\n",
       "3  Purchased AAC audio file      $3.96"
      ]
     },
     "execution_count": 12,
     "metadata": {},
     "output_type": "execute_result"
    }
   ],
   "source": [
    "%%ql\n",
    "\n",
    "select revenue\n",
    "where music\n",
    "by media_type"
   ]
  },
  {
   "cell_type": "markdown",
   "metadata": {},
   "source": [
    "## Dimension transforms\n",
    "\n",
    "What if you want to see revenue for files that are __not__ music? You can special functions\n",
    "called transforms to modify how a dimension behaves. Normally transforms look like object\n",
    "methods (separated by `.` symbol).\n",
    "\n",
    "`not` transform inverts a boolean value, `True` becomes `False` and vice versa. Parentheses\n",
    "are optional if there are no arguments. `music.not()` and `music.not` are the same thing.\n",
    "\n",
    "For the full list of transforms, see\n",
    "[Query Language Reference](../../reference/query_language.md)"
   ]
  },
  {
   "cell_type": "code",
   "execution_count": 13,
   "metadata": {
    "vscode": {
     "languageId": "sql"
    }
   },
   "outputs": [
    {
     "data": {
      "text/html": [
       "<div>\n",
       "<style scoped>\n",
       "    .dataframe tbody tr th:only-of-type {\n",
       "        vertical-align: middle;\n",
       "    }\n",
       "\n",
       "    .dataframe tbody tr th {\n",
       "        vertical-align: top;\n",
       "    }\n",
       "\n",
       "    .dataframe thead th {\n",
       "        text-align: right;\n",
       "    }\n",
       "</style>\n",
       "<table border=\"1\" class=\"dataframe\">\n",
       "  <thead>\n",
       "    <tr style=\"text-align: right;\">\n",
       "      <th></th>\n",
       "      <th>Genre</th>\n",
       "      <th>Revenue</th>\n",
       "    </tr>\n",
       "  </thead>\n",
       "  <tbody>\n",
       "    <tr>\n",
       "      <th>0</th>\n",
       "      <td>Comedy</td>\n",
       "      <td>$17.91</td>\n",
       "    </tr>\n",
       "    <tr>\n",
       "      <th>1</th>\n",
       "      <td>Drama</td>\n",
       "      <td>$57.71</td>\n",
       "    </tr>\n",
       "    <tr>\n",
       "      <th>2</th>\n",
       "      <td>Sci Fi &amp; Fantasy</td>\n",
       "      <td>$39.80</td>\n",
       "    </tr>\n",
       "    <tr>\n",
       "      <th>3</th>\n",
       "      <td>Science Fiction</td>\n",
       "      <td>$11.94</td>\n",
       "    </tr>\n",
       "    <tr>\n",
       "      <th>4</th>\n",
       "      <td>TV Shows</td>\n",
       "      <td>$93.53</td>\n",
       "    </tr>\n",
       "  </tbody>\n",
       "</table>\n",
       "</div>"
      ],
      "text/plain": [
       "              Genre Revenue\n",
       "0            Comedy  $17.91\n",
       "1             Drama  $57.71\n",
       "2  Sci Fi & Fantasy  $39.80\n",
       "3   Science Fiction  $11.94\n",
       "4          TV Shows  $93.53"
      ]
     },
     "execution_count": 13,
     "metadata": {},
     "output_type": "execute_result"
    }
   ],
   "source": [
    "%%ql\n",
    "\n",
    "select revenue\n",
    "where music.not\n",
    "by genre"
   ]
  },
  {
   "cell_type": "markdown",
   "metadata": {},
   "source": [
    "Transforms can be used in the `group by` clause the same way. `year` transform extracts\n",
    "the integer year part from a date. Similar transforms exist for `quarter`, `month`,\n",
    "`week` (number in year), `day` (of month), `hour`, `minute` and `second`."
   ]
  },
  {
   "cell_type": "code",
   "execution_count": 14,
   "metadata": {
    "vscode": {
     "languageId": "sql"
    }
   },
   "outputs": [
    {
     "data": {
      "text/html": [
       "<div>\n",
       "<style scoped>\n",
       "    .dataframe tbody tr th:only-of-type {\n",
       "        vertical-align: middle;\n",
       "    }\n",
       "\n",
       "    .dataframe tbody tr th {\n",
       "        vertical-align: top;\n",
       "    }\n",
       "\n",
       "    .dataframe thead th {\n",
       "        text-align: right;\n",
       "    }\n",
       "</style>\n",
       "<table border=\"1\" class=\"dataframe\">\n",
       "  <thead>\n",
       "    <tr style=\"text-align: right;\">\n",
       "      <th></th>\n",
       "      <th>Invoice Date (Year)</th>\n",
       "      <th>Revenue</th>\n",
       "    </tr>\n",
       "  </thead>\n",
       "  <tbody>\n",
       "    <tr>\n",
       "      <th>0</th>\n",
       "      <td>2009</td>\n",
       "      <td>$449.46</td>\n",
       "    </tr>\n",
       "    <tr>\n",
       "      <th>1</th>\n",
       "      <td>2010</td>\n",
       "      <td>$481.45</td>\n",
       "    </tr>\n",
       "    <tr>\n",
       "      <th>2</th>\n",
       "      <td>2011</td>\n",
       "      <td>$469.58</td>\n",
       "    </tr>\n",
       "    <tr>\n",
       "      <th>3</th>\n",
       "      <td>2012</td>\n",
       "      <td>$477.53</td>\n",
       "    </tr>\n",
       "    <tr>\n",
       "      <th>4</th>\n",
       "      <td>2013</td>\n",
       "      <td>$450.58</td>\n",
       "    </tr>\n",
       "  </tbody>\n",
       "</table>\n",
       "</div>"
      ],
      "text/plain": [
       "  Invoice Date (Year)  Revenue\n",
       "0                2009  $449.46\n",
       "1                2010  $481.45\n",
       "2                2011  $469.58\n",
       "3                2012  $477.53\n",
       "4                2013  $450.58"
      ]
     },
     "execution_count": 14,
     "metadata": {},
     "output_type": "execute_result"
    }
   ],
   "source": [
    "%%ql\n",
    "\n",
    "select revenue\n",
    "by invoice_date.year as \"Invoice Date (Year)\""
   ]
  },
  {
   "cell_type": "markdown",
   "metadata": {},
   "source": [
    "If you want to filter by year, more transforms can be chained. \n",
    "\n",
    "`eq` filter checks if the dimension value is equal to its' argument. For example,\n",
    "`invoice_date.year.eq(2012)` will aggregate only the data for the year 2012. This looks\n",
    "quite ugly, so the last transform, if it's a common comparison operator, can be written\n",
    "like in SQL: `invoice_date.year = 2012`.\n",
    "\n",
    "Similar transforms\n",
    "exist for other comparison operators:\n",
    "\n",
    "- `ne` (not equals) for `<>`\n",
    "- `gt` for `>`\n",
    "- `ge` for `>=`\n",
    "- `lt` for `<`\n",
    "- `le` for `<=`"
   ]
  },
  {
   "cell_type": "code",
   "execution_count": 15,
   "metadata": {
    "vscode": {
     "languageId": "sql"
    }
   },
   "outputs": [
    {
     "data": {
      "text/html": [
       "<div>\n",
       "<style scoped>\n",
       "    .dataframe tbody tr th:only-of-type {\n",
       "        vertical-align: middle;\n",
       "    }\n",
       "\n",
       "    .dataframe tbody tr th {\n",
       "        vertical-align: top;\n",
       "    }\n",
       "\n",
       "    .dataframe thead th {\n",
       "        text-align: right;\n",
       "    }\n",
       "</style>\n",
       "<table border=\"1\" class=\"dataframe\">\n",
       "  <thead>\n",
       "    <tr style=\"text-align: right;\">\n",
       "      <th></th>\n",
       "      <th>Year</th>\n",
       "      <th>Quarter</th>\n",
       "      <th>Revenue</th>\n",
       "    </tr>\n",
       "  </thead>\n",
       "  <tbody>\n",
       "    <tr>\n",
       "      <th>0</th>\n",
       "      <td>2012</td>\n",
       "      <td>1</td>\n",
       "      <td>$112.86</td>\n",
       "    </tr>\n",
       "    <tr>\n",
       "      <th>1</th>\n",
       "      <td>2012</td>\n",
       "      <td>2</td>\n",
       "      <td>$112.86</td>\n",
       "    </tr>\n",
       "    <tr>\n",
       "      <th>2</th>\n",
       "      <td>2012</td>\n",
       "      <td>3</td>\n",
       "      <td>$133.95</td>\n",
       "    </tr>\n",
       "    <tr>\n",
       "      <th>3</th>\n",
       "      <td>2012</td>\n",
       "      <td>4</td>\n",
       "      <td>$117.86</td>\n",
       "    </tr>\n",
       "    <tr>\n",
       "      <th>4</th>\n",
       "      <td>2013</td>\n",
       "      <td>1</td>\n",
       "      <td>$102.96</td>\n",
       "    </tr>\n",
       "    <tr>\n",
       "      <th>5</th>\n",
       "      <td>2013</td>\n",
       "      <td>2</td>\n",
       "      <td>$108.90</td>\n",
       "    </tr>\n",
       "    <tr>\n",
       "      <th>6</th>\n",
       "      <td>2013</td>\n",
       "      <td>3</td>\n",
       "      <td>$112.86</td>\n",
       "    </tr>\n",
       "    <tr>\n",
       "      <th>7</th>\n",
       "      <td>2013</td>\n",
       "      <td>4</td>\n",
       "      <td>$125.86</td>\n",
       "    </tr>\n",
       "  </tbody>\n",
       "</table>\n",
       "</div>"
      ],
      "text/plain": [
       "   Year Quarter  Revenue\n",
       "0  2012       1  $112.86\n",
       "1  2012       2  $112.86\n",
       "2  2012       3  $133.95\n",
       "3  2012       4  $117.86\n",
       "4  2013       1  $102.96\n",
       "5  2013       2  $108.90\n",
       "6  2013       3  $112.86\n",
       "7  2013       4  $125.86"
      ]
     },
     "execution_count": 15,
     "metadata": {},
     "output_type": "execute_result"
    }
   ],
   "source": [
    "%%ql\n",
    "\n",
    "select revenue\n",
    "where invoice_date.year >= 2012\n",
    "by invoice_date.year as \"Year\",\n",
    "   invoice_date.quarter as \"Quarter\""
   ]
  },
  {
   "cell_type": "markdown",
   "metadata": {},
   "source": [
    "## Metric transforms\n",
    "\n",
    "Sometimes you might want to change the behaviour of metrics too. For example, calculate\n",
    "percentages instead of absolute values. This can be done with metric transforms.\n",
    "\n",
    "To see a list of all metric transforms, see\n",
    "[Query Language Reference](../../reference/query_language.md#metric-table-transforms).\n",
    "\n",
    "Let's see what we can do with `percent` transform."
   ]
  },
  {
   "cell_type": "code",
   "execution_count": 16,
   "metadata": {
    "vscode": {
     "languageId": "sql"
    }
   },
   "outputs": [
    {
     "name": "stdout",
     "output_type": "stream",
     "text": [
      "Returned 5 rows to percent\n"
     ]
    }
   ],
   "source": [
    "%%ql -r percent\n",
    "\n",
    "select revenue, revenue.percent as \"Percent of Revenue\"\n",
    "by media_type"
   ]
  },
  {
   "cell_type": "code",
   "execution_count": 17,
   "metadata": {},
   "outputs": [
    {
     "data": {
      "text/html": [
       "<div>\n",
       "<style scoped>\n",
       "    .dataframe tbody tr th:only-of-type {\n",
       "        vertical-align: middle;\n",
       "    }\n",
       "\n",
       "    .dataframe tbody tr th {\n",
       "        vertical-align: top;\n",
       "    }\n",
       "\n",
       "    .dataframe thead th {\n",
       "        text-align: right;\n",
       "    }\n",
       "</style>\n",
       "<table border=\"1\" class=\"dataframe\">\n",
       "  <thead>\n",
       "    <tr style=\"text-align: right;\">\n",
       "      <th></th>\n",
       "      <th>media_type</th>\n",
       "      <th>revenue</th>\n",
       "      <th>Percent of Revenue</th>\n",
       "    </tr>\n",
       "  </thead>\n",
       "  <tbody>\n",
       "    <tr>\n",
       "      <th>0</th>\n",
       "      <td>AAC audio file</td>\n",
       "      <td>2.97</td>\n",
       "      <td>0.001275</td>\n",
       "    </tr>\n",
       "    <tr>\n",
       "      <th>1</th>\n",
       "      <td>MPEG audio file</td>\n",
       "      <td>1956.24</td>\n",
       "      <td>0.840093</td>\n",
       "    </tr>\n",
       "    <tr>\n",
       "      <th>2</th>\n",
       "      <td>Protected AAC audio file</td>\n",
       "      <td>144.54</td>\n",
       "      <td>0.062072</td>\n",
       "    </tr>\n",
       "    <tr>\n",
       "      <th>3</th>\n",
       "      <td>Protected MPEG-4 video file</td>\n",
       "      <td>220.89</td>\n",
       "      <td>0.094860</td>\n",
       "    </tr>\n",
       "    <tr>\n",
       "      <th>4</th>\n",
       "      <td>Purchased AAC audio file</td>\n",
       "      <td>3.96</td>\n",
       "      <td>0.001701</td>\n",
       "    </tr>\n",
       "  </tbody>\n",
       "</table>\n",
       "</div>"
      ],
      "text/plain": [
       "                    media_type  revenue  Percent of Revenue\n",
       "0               AAC audio file     2.97            0.001275\n",
       "1              MPEG audio file  1956.24            0.840093\n",
       "2     Protected AAC audio file   144.54            0.062072\n",
       "3  Protected MPEG-4 video file   220.89            0.094860\n",
       "4     Purchased AAC audio file     3.96            0.001701"
      ]
     },
     "execution_count": 17,
     "metadata": {},
     "output_type": "execute_result"
    }
   ],
   "source": [
    "percent"
   ]
  },
  {
   "cell_type": "code",
   "execution_count": 18,
   "metadata": {},
   "outputs": [
    {
     "data": {
      "text/plain": [
       "1.0"
      ]
     },
     "execution_count": 18,
     "metadata": {},
     "output_type": "execute_result"
    }
   ],
   "source": [
    "percent.iloc[:,-1].sum()  # the data in the last column adds up to 1"
   ]
  },
  {
   "cell_type": "markdown",
   "metadata": {},
   "source": [
    "What if we want to calculate percentage of `Revenue` by `Media Type` within each year?\n",
    "If we just use `revenue.percent` and group `by media_type, invoice_date.year`, all rows\n",
    "will add up to 100%, not all rows within the year. To control what should add up to 100%,\n",
    "there's a special syntax."
   ]
  },
  {
   "cell_type": "code",
   "execution_count": 19,
   "metadata": {
    "vscode": {
     "languageId": "sql"
    }
   },
   "outputs": [
    {
     "name": "stdout",
     "output_type": "stream",
     "text": [
      "Returned 19 rows to percent_within_year\n"
     ]
    }
   ],
   "source": [
    "%%ql -fr percent_within_year\n",
    "\n",
    "select revenue.percent within (invoice_date.year) as \"% of Revenue within Year\"\n",
    "by invoice_date.year as \"Year\", media_type"
   ]
  },
  {
   "cell_type": "code",
   "execution_count": 20,
   "metadata": {},
   "outputs": [
    {
     "data": {
      "text/html": [
       "<div>\n",
       "<style scoped>\n",
       "    .dataframe tbody tr th:only-of-type {\n",
       "        vertical-align: middle;\n",
       "    }\n",
       "\n",
       "    .dataframe tbody tr th {\n",
       "        vertical-align: top;\n",
       "    }\n",
       "\n",
       "    .dataframe thead tr th {\n",
       "        text-align: left;\n",
       "    }\n",
       "\n",
       "    .dataframe thead tr:last-of-type th {\n",
       "        text-align: right;\n",
       "    }\n",
       "</style>\n",
       "<table border=\"1\" class=\"dataframe\">\n",
       "  <thead>\n",
       "    <tr>\n",
       "      <th></th>\n",
       "      <th colspan=\"5\" halign=\"left\">% of Revenue within Year</th>\n",
       "    </tr>\n",
       "    <tr>\n",
       "      <th>Year</th>\n",
       "      <th>2009</th>\n",
       "      <th>2010</th>\n",
       "      <th>2011</th>\n",
       "      <th>2012</th>\n",
       "      <th>2013</th>\n",
       "    </tr>\n",
       "    <tr>\n",
       "      <th>Media Type</th>\n",
       "      <th></th>\n",
       "      <th></th>\n",
       "      <th></th>\n",
       "      <th></th>\n",
       "      <th></th>\n",
       "    </tr>\n",
       "  </thead>\n",
       "  <tbody>\n",
       "    <tr>\n",
       "      <th>AAC audio file</th>\n",
       "      <td>0%</td>\n",
       "      <td>0%</td>\n",
       "      <td>0%</td>\n",
       "      <td>0%</td>\n",
       "      <td>0%</td>\n",
       "    </tr>\n",
       "    <tr>\n",
       "      <th>MPEG audio file</th>\n",
       "      <td>96%</td>\n",
       "      <td>78%</td>\n",
       "      <td>77%</td>\n",
       "      <td>78%</td>\n",
       "      <td>93%</td>\n",
       "    </tr>\n",
       "    <tr>\n",
       "      <th>Protected AAC audio file</th>\n",
       "      <td>4%</td>\n",
       "      <td>9%</td>\n",
       "      <td>9%</td>\n",
       "      <td>7%</td>\n",
       "      <td>2%</td>\n",
       "    </tr>\n",
       "    <tr>\n",
       "      <th>Protected MPEG-4 video file</th>\n",
       "      <td>0%</td>\n",
       "      <td>13%</td>\n",
       "      <td>14%</td>\n",
       "      <td>15%</td>\n",
       "      <td>6%</td>\n",
       "    </tr>\n",
       "    <tr>\n",
       "      <th>Purchased AAC audio file</th>\n",
       "      <td>0%</td>\n",
       "      <td>1%</td>\n",
       "      <td>0%</td>\n",
       "      <td>0%</td>\n",
       "      <td>0%</td>\n",
       "    </tr>\n",
       "  </tbody>\n",
       "</table>\n",
       "</div>"
      ],
      "text/plain": [
       "                            % of Revenue within Year                    \n",
       "Year                                            2009 2010 2011 2012 2013\n",
       "Media Type                                                              \n",
       "AAC audio file                                    0%   0%   0%   0%   0%\n",
       "MPEG audio file                                  96%  78%  77%  78%  93%\n",
       "Protected AAC audio file                          4%   9%   9%   7%   2%\n",
       "Protected MPEG-4 video file                       0%  13%  14%  15%   6%\n",
       "Purchased AAC audio file                          0%   1%   0%   0%   0%"
      ]
     },
     "execution_count": 20,
     "metadata": {},
     "output_type": "execute_result"
    }
   ],
   "source": [
    "percent_within_year.pivot(\n",
    "    index=\"Media Type\",\n",
    "    columns=\"Year\",\n",
    ").fillna(\"0%\")"
   ]
  },
  {
   "cell_type": "markdown",
   "metadata": {},
   "source": [
    "Another keyword that controls how percentages are calculated is `of`. Using it together\n",
    "with `within`, you can calculate percentages for different groupings of your query \n",
    "independently.\n",
    "\n",
    "The only limitation is that all dimension expressions used in `of` and `within` must also\n",
    "be present in `group by`."
   ]
  },
  {
   "cell_type": "code",
   "execution_count": 21,
   "metadata": {
    "vscode": {
     "languageId": "sql"
    }
   },
   "outputs": [
    {
     "name": "stdout",
     "output_type": "stream",
     "text": [
      "Returned 60 rows to quarters\n"
     ]
    }
   ],
   "source": [
    "%%ql -fr quarters\n",
    "\n",
    "select revenue.percent of (invoice_date.quarter) within (invoice_date.year) as \"% of Quarter within Year\"\n",
    "by invoice_date.year as Year,\n",
    "    invoice_date.quarter as Quarter,\n",
    "    invoice_date.month as Month"
   ]
  },
  {
   "cell_type": "code",
   "execution_count": 22,
   "metadata": {},
   "outputs": [
    {
     "data": {
      "text/html": [
       "<div>\n",
       "<style scoped>\n",
       "    .dataframe tbody tr th:only-of-type {\n",
       "        vertical-align: middle;\n",
       "    }\n",
       "\n",
       "    .dataframe tbody tr th {\n",
       "        vertical-align: top;\n",
       "    }\n",
       "\n",
       "    .dataframe thead tr th {\n",
       "        text-align: left;\n",
       "    }\n",
       "\n",
       "    .dataframe thead tr:last-of-type th {\n",
       "        text-align: right;\n",
       "    }\n",
       "</style>\n",
       "<table border=\"1\" class=\"dataframe\">\n",
       "  <thead>\n",
       "    <tr>\n",
       "      <th></th>\n",
       "      <th colspan=\"12\" halign=\"left\">% of Quarter within Year</th>\n",
       "    </tr>\n",
       "    <tr>\n",
       "      <th>Quarter</th>\n",
       "      <th colspan=\"3\" halign=\"left\">1</th>\n",
       "      <th colspan=\"3\" halign=\"left\">2</th>\n",
       "      <th colspan=\"3\" halign=\"left\">3</th>\n",
       "      <th colspan=\"3\" halign=\"left\">4</th>\n",
       "    </tr>\n",
       "    <tr>\n",
       "      <th>Month</th>\n",
       "      <th>1</th>\n",
       "      <th>2</th>\n",
       "      <th>3</th>\n",
       "      <th>4</th>\n",
       "      <th>5</th>\n",
       "      <th>6</th>\n",
       "      <th>7</th>\n",
       "      <th>8</th>\n",
       "      <th>9</th>\n",
       "      <th>10</th>\n",
       "      <th>11</th>\n",
       "      <th>12</th>\n",
       "    </tr>\n",
       "    <tr>\n",
       "      <th>Year</th>\n",
       "      <th></th>\n",
       "      <th></th>\n",
       "      <th></th>\n",
       "      <th></th>\n",
       "      <th></th>\n",
       "      <th></th>\n",
       "      <th></th>\n",
       "      <th></th>\n",
       "      <th></th>\n",
       "      <th></th>\n",
       "      <th></th>\n",
       "      <th></th>\n",
       "    </tr>\n",
       "  </thead>\n",
       "  <tbody>\n",
       "    <tr>\n",
       "      <th>2009</th>\n",
       "      <td>25%</td>\n",
       "      <td>25%</td>\n",
       "      <td>25%</td>\n",
       "      <td>25%</td>\n",
       "      <td>25%</td>\n",
       "      <td>25%</td>\n",
       "      <td>25%</td>\n",
       "      <td>25%</td>\n",
       "      <td>25%</td>\n",
       "      <td>25%</td>\n",
       "      <td>25%</td>\n",
       "      <td>25%</td>\n",
       "    </tr>\n",
       "    <tr>\n",
       "      <th>2010</th>\n",
       "      <td>30%</td>\n",
       "      <td>30%</td>\n",
       "      <td>30%</td>\n",
       "      <td>23%</td>\n",
       "      <td>23%</td>\n",
       "      <td>23%</td>\n",
       "      <td>23%</td>\n",
       "      <td>23%</td>\n",
       "      <td>23%</td>\n",
       "      <td>23%</td>\n",
       "      <td>23%</td>\n",
       "      <td>23%</td>\n",
       "    </tr>\n",
       "    <tr>\n",
       "      <th>2011</th>\n",
       "      <td>24%</td>\n",
       "      <td>24%</td>\n",
       "      <td>24%</td>\n",
       "      <td>31%</td>\n",
       "      <td>31%</td>\n",
       "      <td>31%</td>\n",
       "      <td>24%</td>\n",
       "      <td>24%</td>\n",
       "      <td>24%</td>\n",
       "      <td>21%</td>\n",
       "      <td>21%</td>\n",
       "      <td>21%</td>\n",
       "    </tr>\n",
       "    <tr>\n",
       "      <th>2012</th>\n",
       "      <td>24%</td>\n",
       "      <td>24%</td>\n",
       "      <td>24%</td>\n",
       "      <td>24%</td>\n",
       "      <td>24%</td>\n",
       "      <td>24%</td>\n",
       "      <td>28%</td>\n",
       "      <td>28%</td>\n",
       "      <td>28%</td>\n",
       "      <td>25%</td>\n",
       "      <td>25%</td>\n",
       "      <td>25%</td>\n",
       "    </tr>\n",
       "    <tr>\n",
       "      <th>2013</th>\n",
       "      <td>23%</td>\n",
       "      <td>23%</td>\n",
       "      <td>23%</td>\n",
       "      <td>24%</td>\n",
       "      <td>24%</td>\n",
       "      <td>24%</td>\n",
       "      <td>25%</td>\n",
       "      <td>25%</td>\n",
       "      <td>25%</td>\n",
       "      <td>28%</td>\n",
       "      <td>28%</td>\n",
       "      <td>28%</td>\n",
       "    </tr>\n",
       "  </tbody>\n",
       "</table>\n",
       "</div>"
      ],
      "text/plain": [
       "        % of Quarter within Year                                               \\\n",
       "Quarter                        1              2              3              4   \n",
       "Month                          1    2    3    4    5    6    7    8    9   10   \n",
       "Year                                                                            \n",
       "2009                         25%  25%  25%  25%  25%  25%  25%  25%  25%  25%   \n",
       "2010                         30%  30%  30%  23%  23%  23%  23%  23%  23%  23%   \n",
       "2011                         24%  24%  24%  31%  31%  31%  24%  24%  24%  21%   \n",
       "2012                         24%  24%  24%  24%  24%  24%  28%  28%  28%  25%   \n",
       "2013                         23%  23%  23%  24%  24%  24%  25%  25%  25%  28%   \n",
       "\n",
       "                   \n",
       "Quarter            \n",
       "Month     11   12  \n",
       "Year               \n",
       "2009     25%  25%  \n",
       "2010     23%  23%  \n",
       "2011     21%  21%  \n",
       "2012     25%  25%  \n",
       "2013     28%  28%  "
      ]
     },
     "execution_count": 22,
     "metadata": {},
     "output_type": "execute_result"
    }
   ],
   "source": [
    "quarters.pivot(\n",
    "    columns=(\"Quarter\", \"Month\"),\n",
    "    index=\"Year\",\n",
    ")"
   ]
  },
  {
   "cell_type": "markdown",
   "metadata": {},
   "source": [
    "As you can see, the value is the same for each month in the quarter. The query returned\n",
    "exactly what we asked for: what is the percentage of a particular quarter within a particular\n",
    "year, regardless of other dimensions we might have requested.\n",
    "\n",
    "`total` transform works in a similar way, but outputs the absolute value on the specified\n",
    "level of detail:"
   ]
  },
  {
   "cell_type": "code",
   "execution_count": 23,
   "metadata": {
    "vscode": {
     "languageId": "sql"
    }
   },
   "outputs": [
    {
     "data": {
      "text/html": [
       "<div>\n",
       "<style scoped>\n",
       "    .dataframe tbody tr th:only-of-type {\n",
       "        vertical-align: middle;\n",
       "    }\n",
       "\n",
       "    .dataframe tbody tr th {\n",
       "        vertical-align: top;\n",
       "    }\n",
       "\n",
       "    .dataframe thead th {\n",
       "        text-align: right;\n",
       "    }\n",
       "</style>\n",
       "<table border=\"1\" class=\"dataframe\">\n",
       "  <thead>\n",
       "    <tr style=\"text-align: right;\">\n",
       "      <th></th>\n",
       "      <th>Year</th>\n",
       "      <th>Quarter</th>\n",
       "      <th>Revenue</th>\n",
       "      <th>Grand Total</th>\n",
       "      <th>Total within Year</th>\n",
       "      <th>Total of Year</th>\n",
       "    </tr>\n",
       "  </thead>\n",
       "  <tbody>\n",
       "    <tr>\n",
       "      <th>0</th>\n",
       "      <td>2012</td>\n",
       "      <td>Q1 2012</td>\n",
       "      <td>$112.86</td>\n",
       "      <td>$928.11</td>\n",
       "      <td>$477.53</td>\n",
       "      <td>$477.53</td>\n",
       "    </tr>\n",
       "    <tr>\n",
       "      <th>1</th>\n",
       "      <td>2012</td>\n",
       "      <td>Q2 2012</td>\n",
       "      <td>$112.86</td>\n",
       "      <td>$928.11</td>\n",
       "      <td>$477.53</td>\n",
       "      <td>$477.53</td>\n",
       "    </tr>\n",
       "    <tr>\n",
       "      <th>2</th>\n",
       "      <td>2012</td>\n",
       "      <td>Q3 2012</td>\n",
       "      <td>$133.95</td>\n",
       "      <td>$928.11</td>\n",
       "      <td>$477.53</td>\n",
       "      <td>$477.53</td>\n",
       "    </tr>\n",
       "    <tr>\n",
       "      <th>3</th>\n",
       "      <td>2012</td>\n",
       "      <td>Q4 2012</td>\n",
       "      <td>$117.86</td>\n",
       "      <td>$928.11</td>\n",
       "      <td>$477.53</td>\n",
       "      <td>$477.53</td>\n",
       "    </tr>\n",
       "    <tr>\n",
       "      <th>4</th>\n",
       "      <td>2013</td>\n",
       "      <td>Q1 2013</td>\n",
       "      <td>$102.96</td>\n",
       "      <td>$928.11</td>\n",
       "      <td>$450.58</td>\n",
       "      <td>$450.58</td>\n",
       "    </tr>\n",
       "    <tr>\n",
       "      <th>5</th>\n",
       "      <td>2013</td>\n",
       "      <td>Q2 2013</td>\n",
       "      <td>$108.90</td>\n",
       "      <td>$928.11</td>\n",
       "      <td>$450.58</td>\n",
       "      <td>$450.58</td>\n",
       "    </tr>\n",
       "    <tr>\n",
       "      <th>6</th>\n",
       "      <td>2013</td>\n",
       "      <td>Q3 2013</td>\n",
       "      <td>$112.86</td>\n",
       "      <td>$928.11</td>\n",
       "      <td>$450.58</td>\n",
       "      <td>$450.58</td>\n",
       "    </tr>\n",
       "    <tr>\n",
       "      <th>7</th>\n",
       "      <td>2013</td>\n",
       "      <td>Q4 2013</td>\n",
       "      <td>$125.86</td>\n",
       "      <td>$928.11</td>\n",
       "      <td>$450.58</td>\n",
       "      <td>$450.58</td>\n",
       "    </tr>\n",
       "  </tbody>\n",
       "</table>\n",
       "</div>"
      ],
      "text/plain": [
       "   Year  Quarter  Revenue Grand Total Total within Year Total of Year\n",
       "0  2012  Q1 2012  $112.86     $928.11           $477.53       $477.53\n",
       "1  2012  Q2 2012  $112.86     $928.11           $477.53       $477.53\n",
       "2  2012  Q3 2012  $133.95     $928.11           $477.53       $477.53\n",
       "3  2012  Q4 2012  $117.86     $928.11           $477.53       $477.53\n",
       "4  2013  Q1 2013  $102.96     $928.11           $450.58       $450.58\n",
       "5  2013  Q2 2013  $108.90     $928.11           $450.58       $450.58\n",
       "6  2013  Q3 2013  $112.86     $928.11           $450.58       $450.58\n",
       "7  2013  Q4 2013  $125.86     $928.11           $450.58       $450.58"
      ]
     },
     "execution_count": 23,
     "metadata": {},
     "output_type": "execute_result"
    }
   ],
   "source": [
    "%%ql\n",
    "\n",
    "select revenue,\n",
    "    revenue.total as \"Grand Total\",\n",
    "    revenue.total within (Year) as \"Total within Year\",\n",
    "    revenue.total of (Year) as \"Total of Year\"\n",
    "where Time.year >= 2012\n",
    "by Year, Quarter"
   ]
  },
  {
   "cell_type": "markdown",
   "metadata": {},
   "source": [
    "`of` and `within` for the `total` mean the same thing. Total _within_ a year is the total\n",
    "value of a metric calculated as if there are no other dimensions involved but the year.\n",
    "The same thing can be said about total _of_ year."
   ]
  },
  {
   "cell_type": "markdown",
   "metadata": {},
   "source": [
    "## Top-K queries\n",
    "\n",
    "Just like dimension transforms can be used both in groupings and filters, metric transforms\n",
    "can be used in filters too. The concept is the same: there are metric transforms that\n",
    "output a boolean value, that can be the used to filter the result set.\n",
    "\n",
    "One of the most useful boolean metric transforms is `top`."
   ]
  },
  {
   "cell_type": "code",
   "execution_count": 24,
   "metadata": {
    "vscode": {
     "languageId": "sql"
    }
   },
   "outputs": [
    {
     "data": {
      "text/html": [
       "<div>\n",
       "<style scoped>\n",
       "    .dataframe tbody tr th:only-of-type {\n",
       "        vertical-align: middle;\n",
       "    }\n",
       "\n",
       "    .dataframe tbody tr th {\n",
       "        vertical-align: top;\n",
       "    }\n",
       "\n",
       "    .dataframe thead th {\n",
       "        text-align: right;\n",
       "    }\n",
       "</style>\n",
       "<table border=\"1\" class=\"dataframe\">\n",
       "  <thead>\n",
       "    <tr style=\"text-align: right;\">\n",
       "      <th></th>\n",
       "      <th>Genre</th>\n",
       "      <th>Revenue</th>\n",
       "    </tr>\n",
       "  </thead>\n",
       "  <tbody>\n",
       "    <tr>\n",
       "      <th>0</th>\n",
       "      <td>Alternative &amp; Punk</td>\n",
       "      <td>$241.56</td>\n",
       "    </tr>\n",
       "    <tr>\n",
       "      <th>1</th>\n",
       "      <td>Latin</td>\n",
       "      <td>$382.14</td>\n",
       "    </tr>\n",
       "    <tr>\n",
       "      <th>2</th>\n",
       "      <td>Metal</td>\n",
       "      <td>$261.36</td>\n",
       "    </tr>\n",
       "    <tr>\n",
       "      <th>3</th>\n",
       "      <td>Rock</td>\n",
       "      <td>$826.65</td>\n",
       "    </tr>\n",
       "    <tr>\n",
       "      <th>4</th>\n",
       "      <td>TV Shows</td>\n",
       "      <td>$93.53</td>\n",
       "    </tr>\n",
       "  </tbody>\n",
       "</table>\n",
       "</div>"
      ],
      "text/plain": [
       "                Genre  Revenue\n",
       "0  Alternative & Punk  $241.56\n",
       "1               Latin  $382.14\n",
       "2               Metal  $261.36\n",
       "3                Rock  $826.65\n",
       "4            TV Shows   $93.53"
      ]
     },
     "execution_count": 24,
     "metadata": {},
     "output_type": "execute_result"
    }
   ],
   "source": [
    "%%ql\n",
    "\n",
    "select revenue\n",
    "by genre\n",
    "limit revenue.top(5)"
   ]
  },
  {
   "cell_type": "markdown",
   "metadata": {
    "vscode": {
     "languageId": "sql"
    }
   },
   "source": [
    "Just like any other metric transform, `top` can be used with `of` and `within`. Let's\n",
    "calculate which genre was the most popular within each year."
   ]
  },
  {
   "cell_type": "code",
   "execution_count": 25,
   "metadata": {
    "vscode": {
     "languageId": "sql"
    }
   },
   "outputs": [
    {
     "data": {
      "text/html": [
       "<div>\n",
       "<style scoped>\n",
       "    .dataframe tbody tr th:only-of-type {\n",
       "        vertical-align: middle;\n",
       "    }\n",
       "\n",
       "    .dataframe tbody tr th {\n",
       "        vertical-align: top;\n",
       "    }\n",
       "\n",
       "    .dataframe thead th {\n",
       "        text-align: right;\n",
       "    }\n",
       "</style>\n",
       "<table border=\"1\" class=\"dataframe\">\n",
       "  <thead>\n",
       "    <tr style=\"text-align: right;\">\n",
       "      <th></th>\n",
       "      <th>Year</th>\n",
       "      <th>Album</th>\n",
       "      <th>Revenue</th>\n",
       "      <th>Number of Items Sold</th>\n",
       "    </tr>\n",
       "  </thead>\n",
       "  <tbody>\n",
       "    <tr>\n",
       "      <th>0</th>\n",
       "      <td>2009</td>\n",
       "      <td>Minha Historia</td>\n",
       "      <td>$10.89</td>\n",
       "      <td>11</td>\n",
       "    </tr>\n",
       "    <tr>\n",
       "      <th>1</th>\n",
       "      <td>2010</td>\n",
       "      <td>Acústico</td>\n",
       "      <td>$8.91</td>\n",
       "      <td>9</td>\n",
       "    </tr>\n",
       "    <tr>\n",
       "      <th>2</th>\n",
       "      <td>2011</td>\n",
       "      <td>Battlestar Galactica (Classic), Season 1</td>\n",
       "      <td>$17.91</td>\n",
       "      <td>9</td>\n",
       "    </tr>\n",
       "    <tr>\n",
       "      <th>3</th>\n",
       "      <td>2012</td>\n",
       "      <td>The Office, Season 3</td>\n",
       "      <td>$21.89</td>\n",
       "      <td>11</td>\n",
       "    </tr>\n",
       "    <tr>\n",
       "      <th>4</th>\n",
       "      <td>2013</td>\n",
       "      <td>Up An' Atom</td>\n",
       "      <td>$9.90</td>\n",
       "      <td>10</td>\n",
       "    </tr>\n",
       "  </tbody>\n",
       "</table>\n",
       "</div>"
      ],
      "text/plain": [
       "   Year                                     Album Revenue Number of Items Sold\n",
       "0  2009                            Minha Historia  $10.89                   11\n",
       "1  2010                                  Acústico   $8.91                    9\n",
       "2  2011  Battlestar Galactica (Classic), Season 1  $17.91                    9\n",
       "3  2012                      The Office, Season 3  $21.89                   11\n",
       "4  2013                               Up An' Atom   $9.90                   10"
      ]
     },
     "execution_count": 25,
     "metadata": {},
     "output_type": "execute_result"
    }
   ],
   "source": [
    "%%ql\n",
    "\n",
    "select revenue, items_sold\n",
    "by Year, album\n",
    "limit revenue.top(1) within (Year)"
   ]
  },
  {
   "cell_type": "markdown",
   "metadata": {},
   "source": [
    "`of` and `within` can be combined to construct more complex \"tops\".\n",
    "\n",
    "We can calculate top-5 countries that gave us the most revenue and then see which city\n",
    "was the leader per country."
   ]
  },
  {
   "cell_type": "code",
   "execution_count": 26,
   "metadata": {
    "vscode": {
     "languageId": "sql"
    }
   },
   "outputs": [
    {
     "data": {
      "text/html": [
       "<div>\n",
       "<style scoped>\n",
       "    .dataframe tbody tr th:only-of-type {\n",
       "        vertical-align: middle;\n",
       "    }\n",
       "\n",
       "    .dataframe tbody tr th {\n",
       "        vertical-align: top;\n",
       "    }\n",
       "\n",
       "    .dataframe thead th {\n",
       "        text-align: right;\n",
       "    }\n",
       "</style>\n",
       "<table border=\"1\" class=\"dataframe\">\n",
       "  <thead>\n",
       "    <tr style=\"text-align: right;\">\n",
       "      <th></th>\n",
       "      <th>Customer Country</th>\n",
       "      <th>Customer City</th>\n",
       "      <th>Revenue</th>\n",
       "      <th>% Revenue: City in Country</th>\n",
       "      <th>Total Revenue: Country</th>\n",
       "    </tr>\n",
       "  </thead>\n",
       "  <tbody>\n",
       "    <tr>\n",
       "      <th>0</th>\n",
       "      <td>Brazil</td>\n",
       "      <td>São Paulo</td>\n",
       "      <td>$75.24</td>\n",
       "      <td>40%</td>\n",
       "      <td>$190.10</td>\n",
       "    </tr>\n",
       "    <tr>\n",
       "      <th>1</th>\n",
       "      <td>Canada</td>\n",
       "      <td>Montréal</td>\n",
       "      <td>$39.62</td>\n",
       "      <td>13%</td>\n",
       "      <td>$303.96</td>\n",
       "    </tr>\n",
       "    <tr>\n",
       "      <th>2</th>\n",
       "      <td>France</td>\n",
       "      <td>Paris</td>\n",
       "      <td>$77.24</td>\n",
       "      <td>40%</td>\n",
       "      <td>$195.10</td>\n",
       "    </tr>\n",
       "    <tr>\n",
       "      <th>3</th>\n",
       "      <td>Germany</td>\n",
       "      <td>Berlin</td>\n",
       "      <td>$75.24</td>\n",
       "      <td>48%</td>\n",
       "      <td>$156.48</td>\n",
       "    </tr>\n",
       "    <tr>\n",
       "      <th>4</th>\n",
       "      <td>USA</td>\n",
       "      <td>Mountain View</td>\n",
       "      <td>$77.24</td>\n",
       "      <td>15%</td>\n",
       "      <td>$523.06</td>\n",
       "    </tr>\n",
       "  </tbody>\n",
       "</table>\n",
       "</div>"
      ],
      "text/plain": [
       "  Customer Country  Customer City Revenue % Revenue: City in Country  \\\n",
       "0           Brazil      São Paulo  $75.24                        40%   \n",
       "1           Canada       Montréal  $39.62                        13%   \n",
       "2           France          Paris  $77.24                        40%   \n",
       "3          Germany         Berlin  $75.24                        48%   \n",
       "4              USA  Mountain View  $77.24                        15%   \n",
       "\n",
       "  Total Revenue: Country  \n",
       "0                $190.10  \n",
       "1                $303.96  \n",
       "2                $195.10  \n",
       "3                $156.48  \n",
       "4                $523.06  "
      ]
     },
     "execution_count": 26,
     "metadata": {},
     "output_type": "execute_result"
    }
   ],
   "source": [
    "%%ql\n",
    "\n",
    "select revenue,\n",
    "    revenue.percent of (customer_city) as \"% Revenue: City in Country\",\n",
    "    revenue.total within (customer_country) as \"Total Revenue: Country\"\n",
    "by customer_country, customer_city\n",
    "limit revenue.top(5) of (customer_country),\n",
    "    revenue.top(1) of (customer_city) within (customer_country)"
   ]
  },
  {
   "cell_type": "markdown",
   "metadata": {},
   "source": [
    "It's important to notice that total revenue within country is not affected by the limit.\n",
    "The metric transform is computed before `top` is applied, so you can actually see the\n",
    "value that contributed to the country being in the top-5."
   ]
  }
 ],
 "metadata": {
  "kernelspec": {
   "display_name": "Python 3.9.10 ('dictum-rElINzsF-py3.9')",
   "language": "python",
   "name": "python3"
  },
  "language_info": {
   "codemirror_mode": {
    "name": "ipython",
    "version": 3
   },
   "file_extension": ".py",
   "mimetype": "text/x-python",
   "name": "python",
   "nbconvert_exporter": "python",
   "pygments_lexer": "ipython3",
   "version": "3.9.10"
  },
  "orig_nbformat": 4,
  "vscode": {
   "interpreter": {
    "hash": "ec40704da5258e45267b854791f95634f5402d9812ac18870451eea536ae27ba"
   }
  }
 },
 "nbformat": 4,
 "nbformat_minor": 2
}
