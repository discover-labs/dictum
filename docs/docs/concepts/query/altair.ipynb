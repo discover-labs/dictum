{
 "cells": [
  {
   "cell_type": "markdown",
   "metadata": {},
   "source": [
    "Dictum provides data visualization capabilities by integrating into the great\n",
    "[Altair](https://altair-viz.github.io/) library. Altair's declarative approach to dataviz\n",
    "is very much in tune with Dictum's declarative approach to computing metrics.\n",
    "\n",
    "Altair produces JSON chart \"configs\" that Dictum can understand and translate to actual\n",
    "semantic queries. After retrieving the necessary data from your backend, Dictum will\n",
    "return a new config with all the information that's necessary for correctly displaying\n",
    "the chart.\n",
    "\n",
    "If you're already familiar with Altair, here's the TLDR version of this section: you can\n",
    "put a metric or a dimension anywhere you can put a field shorthand.\n",
    "\n",
    "Metrics and dimensions \"live\" in the project, under `project.dimensions` and\n",
    "`project.metrics` attributes."
   ]
  },
  {
   "cell_type": "code",
   "execution_count": 11,
   "metadata": {},
   "outputs": [
    {
     "data": {
      "text/html": [
       "\n",
       "\n",
       "\n",
       "\n",
       "\n",
       "<h3>Revenue</h3>\n",
       "<code>:revenue</code>\n",
       "\n",
       "\n",
       "\n",
       "\n",
       "<p>\n",
       "<code>sum(UnitPrice * Quantity)</code>\n",
       "on table invoice_items: <code>invoice_items</code>\n",
       "</p>\n",
       "\n"
      ],
      "text/plain": [
       "<dictum.project.calculations.ProjectMetric at 0x14f3b14f0>"
      ]
     },
     "execution_count": 11,
     "metadata": {},
     "output_type": "execute_result"
    }
   ],
   "source": [
    "from dictum import Project\n",
    "\n",
    "project = Project.example(\"chinook\")\n",
    "m, d = project.metrics, project.dimensions\n",
    "m.revenue"
   ]
  },
  {
   "cell_type": "markdown",
   "metadata": {},
   "source": [
    "Let's make some charts! To create a chart, call the `project.chart()` instead of \n",
    "the usual `altair.Chart(data)`."
   ]
  },
  {
   "cell_type": "code",
   "execution_count": 12,
   "metadata": {},
   "outputs": [
    {
     "data": {
      "text/html": [
       "\n",
       "<div id=\"altair-viz-1086f2d534c84d2e8485236a52345522\"></div>\n",
       "<script type=\"text/javascript\">\n",
       "  (function(spec, embedOpt){\n",
       "    let outputDiv = document.currentScript.previousElementSibling;\n",
       "    if (outputDiv.id !== \"altair-viz-1086f2d534c84d2e8485236a52345522\") {\n",
       "      outputDiv = document.getElementById(\"altair-viz-1086f2d534c84d2e8485236a52345522\");\n",
       "    }\n",
       "    const paths = {\n",
       "      \"vega\": \"https://cdn.jsdelivr.net/npm//vega@5?noext\",\n",
       "      \"vega-lib\": \"https://cdn.jsdelivr.net/npm//vega-lib?noext\",\n",
       "      \"vega-lite\": \"https://cdn.jsdelivr.net/npm//vega-lite@4.17.0?noext\",\n",
       "      \"vega-embed\": \"https://cdn.jsdelivr.net/npm//vega-embed@6?noext\",\n",
       "    };\n",
       "\n",
       "    function loadScript(lib) {\n",
       "      return new Promise(function(resolve, reject) {\n",
       "        var s = document.createElement('script');\n",
       "        s.src = paths[lib];\n",
       "        s.async = true;\n",
       "        s.onload = () => resolve(paths[lib]);\n",
       "        s.onerror = () => reject(`Error loading script: ${paths[lib]}`);\n",
       "        document.getElementsByTagName(\"head\")[0].appendChild(s);\n",
       "      });\n",
       "    }\n",
       "\n",
       "    function showError(err) {\n",
       "      outputDiv.innerHTML = `<div class=\"error\" style=\"color:red;\">${err}</div>`;\n",
       "      throw err;\n",
       "    }\n",
       "\n",
       "    function displayChart(vegaEmbed) {\n",
       "      vegaEmbed(outputDiv, spec, embedOpt)\n",
       "        .catch(err => showError(`Javascript Error: ${err.message}<br>This usually means there's a typo in your chart specification. See the javascript console for the full traceback.`));\n",
       "    }\n",
       "\n",
       "    if(typeof define === \"function\" && define.amd) {\n",
       "      requirejs.config({paths});\n",
       "      require([\"vega-embed\"], displayChart, err => showError(`Error loading script: ${err.message}`));\n",
       "    } else if (typeof vegaEmbed === \"function\") {\n",
       "      displayChart(vegaEmbed);\n",
       "    } else {\n",
       "      loadScript(\"vega\")\n",
       "        .then(() => loadScript(\"vega-lite\"))\n",
       "        .then(() => loadScript(\"vega-embed\"))\n",
       "        .catch(showError)\n",
       "        .then(() => displayChart(vegaEmbed));\n",
       "    }\n",
       "  })({\"config\": {\"view\": {\"continuousWidth\": 400, \"continuousHeight\": 300}}, \"data\": {\"name\": \"data-baba7ff52baf548e4b55d51de350ea18\"}, \"mark\": \"bar\", \"encoding\": {\"tooltip\": [{\"field\": \"Year\", \"title\": \"Year\", \"type\": \"temporal\", \"format\": \"%-Y\"}, {\"field\": \"revenue\", \"title\": \"Revenue\", \"type\": \"quantitative\", \"format\": \"$01,.2f\"}], \"x\": {\"axis\": {\"title\": \"Year\", \"format\": \"%-Y\"}, \"field\": \"Year\", \"timeUnit\": \"year\", \"type\": \"temporal\"}, \"y\": {\"axis\": {\"title\": \"Revenue\", \"format\": \"$01,.2f\"}, \"field\": \"revenue\", \"type\": \"quantitative\"}}, \"$schema\": \"https://vega.github.io/schema/vega-lite/v4.17.0.json\", \"datasets\": {\"data-baba7ff52baf548e4b55d51de350ea18\": [{\"Year\": \"2009-01-01T00:00:00\", \"revenue\": 449.46}, {\"Year\": \"2010-01-01T00:00:00\", \"revenue\": 481.45}, {\"Year\": \"2011-01-01T00:00:00\", \"revenue\": 469.58}, {\"Year\": \"2012-01-01T00:00:00\", \"revenue\": 477.53}, {\"Year\": \"2013-01-01T00:00:00\", \"revenue\": 450.58}]}}, {\"formatLocale\": {\"decimal\": \".\", \"thousands\": \",\", \"grouping\": [3, 3], \"currency\": [\"$\", \"\"]}, \"timeFormatLocale\": {\"dateTime\": \"%-m/%-d/%g, %-I:%m %p\", \"date\": \"%-m/%-d/%g\", \"time\": \"%-I:%m %p\", \"periods\": [\"AM\", \"PM\"], \"days\": [\"Sunday\", \"Monday\", \"Tuesday\", \"Wednesday\", \"Thursday\", \"Friday\", \"Saturday\"], \"shortDays\": [\"Sun\", \"Mon\", \"Tue\", \"Wed\", \"Thu\", \"Fri\", \"Sat\"], \"months\": [\"January\", \"February\", \"March\", \"April\", \"May\", \"June\", \"July\", \"August\", \"September\", \"October\", \"November\", \"December\"], \"shortMonths\": [\"Jan\", \"Feb\", \"Mar\", \"Apr\", \"May\", \"Jun\", \"Jul\", \"Aug\", \"Sep\", \"Oct\", \"Nov\", \"Dec\"]}, \"mode\": \"vega-lite\"});\n",
       "</script>"
      ],
      "text/plain": [
       "alt.Chart(...)"
      ]
     },
     "execution_count": 12,
     "metadata": {},
     "output_type": "execute_result"
    }
   ],
   "source": [
    "project.chart().mark_bar().encode(\n",
    "    x=d.Year,\n",
    "    y=m.revenue,\n",
    ")"
   ]
  },
  {
   "cell_type": "markdown",
   "metadata": {},
   "source": [
    "Dictum sets the default axis labels and formatting for you, as well as tooltips.\n",
    "You can always override them in Altair.\n",
    "\n",
    "Let's add different axis labels and some color."
   ]
  },
  {
   "cell_type": "code",
   "execution_count": 13,
   "metadata": {},
   "outputs": [
    {
     "data": {
      "text/html": [
       "\n",
       "<div id=\"altair-viz-81ad1b150b6d454da89f68c288d0d71e\"></div>\n",
       "<script type=\"text/javascript\">\n",
       "  (function(spec, embedOpt){\n",
       "    let outputDiv = document.currentScript.previousElementSibling;\n",
       "    if (outputDiv.id !== \"altair-viz-81ad1b150b6d454da89f68c288d0d71e\") {\n",
       "      outputDiv = document.getElementById(\"altair-viz-81ad1b150b6d454da89f68c288d0d71e\");\n",
       "    }\n",
       "    const paths = {\n",
       "      \"vega\": \"https://cdn.jsdelivr.net/npm//vega@5?noext\",\n",
       "      \"vega-lib\": \"https://cdn.jsdelivr.net/npm//vega-lib?noext\",\n",
       "      \"vega-lite\": \"https://cdn.jsdelivr.net/npm//vega-lite@4.17.0?noext\",\n",
       "      \"vega-embed\": \"https://cdn.jsdelivr.net/npm//vega-embed@6?noext\",\n",
       "    };\n",
       "\n",
       "    function loadScript(lib) {\n",
       "      return new Promise(function(resolve, reject) {\n",
       "        var s = document.createElement('script');\n",
       "        s.src = paths[lib];\n",
       "        s.async = true;\n",
       "        s.onload = () => resolve(paths[lib]);\n",
       "        s.onerror = () => reject(`Error loading script: ${paths[lib]}`);\n",
       "        document.getElementsByTagName(\"head\")[0].appendChild(s);\n",
       "      });\n",
       "    }\n",
       "\n",
       "    function showError(err) {\n",
       "      outputDiv.innerHTML = `<div class=\"error\" style=\"color:red;\">${err}</div>`;\n",
       "      throw err;\n",
       "    }\n",
       "\n",
       "    function displayChart(vegaEmbed) {\n",
       "      vegaEmbed(outputDiv, spec, embedOpt)\n",
       "        .catch(err => showError(`Javascript Error: ${err.message}<br>This usually means there's a typo in your chart specification. See the javascript console for the full traceback.`));\n",
       "    }\n",
       "\n",
       "    if(typeof define === \"function\" && define.amd) {\n",
       "      requirejs.config({paths});\n",
       "      require([\"vega-embed\"], displayChart, err => showError(`Error loading script: ${err.message}`));\n",
       "    } else if (typeof vegaEmbed === \"function\") {\n",
       "      displayChart(vegaEmbed);\n",
       "    } else {\n",
       "      loadScript(\"vega\")\n",
       "        .then(() => loadScript(\"vega-lite\"))\n",
       "        .then(() => loadScript(\"vega-embed\"))\n",
       "        .catch(showError)\n",
       "        .then(() => displayChart(vegaEmbed));\n",
       "    }\n",
       "  })({\"config\": {\"view\": {\"continuousWidth\": 400, \"continuousHeight\": 300}}, \"data\": {\"name\": \"data-623367b3b8beb6601da79e76d23c0b46\"}, \"mark\": \"bar\", \"encoding\": {\"color\": {\"field\": \"Time__quarter\", \"legend\": {\"title\": \"Time (quarter)\", \"format\": \"d\"}, \"type\": \"ordinal\"}, \"tooltip\": [{\"field\": \"Time__quarter\", \"title\": \"Time (quarter)\", \"type\": \"ordinal\", \"format\": \"d\"}, {\"field\": \"Year\", \"title\": \"Year\", \"type\": \"temporal\", \"format\": \"%-Y\"}, {\"field\": \"revenue\", \"title\": \"Revenue\", \"type\": \"quantitative\", \"format\": \"$01,.2f\"}], \"x\": {\"axis\": {\"title\": \"Year\", \"format\": \"%-Y\"}, \"field\": \"Year\", \"timeUnit\": \"year\", \"type\": \"temporal\"}, \"y\": {\"axis\": {\"title\": \"Yearly Revenue\", \"format\": \"d\"}, \"field\": \"revenue\", \"type\": \"quantitative\"}}, \"$schema\": \"https://vega.github.io/schema/vega-lite/v4.17.0.json\", \"datasets\": {\"data-623367b3b8beb6601da79e76d23c0b46\": [{\"Time__quarter\": 1, \"Year\": \"2009-01-01T00:00:00\", \"revenue\": 110.88}, {\"Time__quarter\": 1, \"Year\": \"2010-01-01T00:00:00\", \"revenue\": 143.86}, {\"Time__quarter\": 1, \"Year\": \"2011-01-01T00:00:00\", \"revenue\": 112.86}, {\"Time__quarter\": 1, \"Year\": \"2012-01-01T00:00:00\", \"revenue\": 112.86}, {\"Time__quarter\": 1, \"Year\": \"2013-01-01T00:00:00\", \"revenue\": 102.96}, {\"Time__quarter\": 2, \"Year\": \"2009-01-01T00:00:00\", \"revenue\": 112.86}, {\"Time__quarter\": 2, \"Year\": \"2010-01-01T00:00:00\", \"revenue\": 112.86}, {\"Time__quarter\": 2, \"Year\": \"2011-01-01T00:00:00\", \"revenue\": 144.86}, {\"Time__quarter\": 2, \"Year\": \"2012-01-01T00:00:00\", \"revenue\": 112.86}, {\"Time__quarter\": 2, \"Year\": \"2013-01-01T00:00:00\", \"revenue\": 108.9}, {\"Time__quarter\": 3, \"Year\": \"2009-01-01T00:00:00\", \"revenue\": 112.86}, {\"Time__quarter\": 3, \"Year\": \"2010-01-01T00:00:00\", \"revenue\": 111.87}, {\"Time__quarter\": 3, \"Year\": \"2011-01-01T00:00:00\", \"revenue\": 112.86}, {\"Time__quarter\": 3, \"Year\": \"2012-01-01T00:00:00\", \"revenue\": 133.95}, {\"Time__quarter\": 3, \"Year\": \"2013-01-01T00:00:00\", \"revenue\": 112.86}, {\"Time__quarter\": 4, \"Year\": \"2009-01-01T00:00:00\", \"revenue\": 112.86}, {\"Time__quarter\": 4, \"Year\": \"2010-01-01T00:00:00\", \"revenue\": 112.86}, {\"Time__quarter\": 4, \"Year\": \"2011-01-01T00:00:00\", \"revenue\": 99.0}, {\"Time__quarter\": 4, \"Year\": \"2012-01-01T00:00:00\", \"revenue\": 117.86}, {\"Time__quarter\": 4, \"Year\": \"2013-01-01T00:00:00\", \"revenue\": 125.86}]}}, {\"formatLocale\": {\"decimal\": \".\", \"thousands\": \",\", \"grouping\": [3, 3], \"currency\": [\"$\", \"\"]}, \"timeFormatLocale\": {\"dateTime\": \"%-m/%-d/%g, %-I:%m %p\", \"date\": \"%-m/%-d/%g\", \"time\": \"%-I:%m %p\", \"periods\": [\"AM\", \"PM\"], \"days\": [\"Sunday\", \"Monday\", \"Tuesday\", \"Wednesday\", \"Thursday\", \"Friday\", \"Saturday\"], \"shortDays\": [\"Sun\", \"Mon\", \"Tue\", \"Wed\", \"Thu\", \"Fri\", \"Sat\"], \"months\": [\"January\", \"February\", \"March\", \"April\", \"May\", \"June\", \"July\", \"August\", \"September\", \"October\", \"November\", \"December\"], \"shortMonths\": [\"Jan\", \"Feb\", \"Mar\", \"Apr\", \"May\", \"Jun\", \"Jul\", \"Aug\", \"Sep\", \"Oct\", \"Nov\", \"Dec\"]}, \"mode\": \"vega-lite\"});\n",
       "</script>"
      ],
      "text/plain": [
       "alt.Chart(...)"
      ]
     },
     "execution_count": 13,
     "metadata": {},
     "output_type": "execute_result"
    }
   ],
   "source": [
    "from altair import X, Y, Color\n",
    "\n",
    "(\n",
    "    project.chart()\n",
    "    .mark_bar()\n",
    "    .encode(\n",
    "        x=d.Year,\n",
    "        y=Y(m.revenue, axis={\"title\": \"Yearly Revenue\", \"format\": \"d\"}),\n",
    "        color=Color(d.Time.quarter),\n",
    "    )\n",
    ")"
   ]
  },
  {
   "cell_type": "markdown",
   "metadata": {},
   "source": [
    "Metric and dimension transforms work the same way as with the query language and\n",
    "Python API."
   ]
  },
  {
   "cell_type": "code",
   "execution_count": 14,
   "metadata": {},
   "outputs": [
    {
     "data": {
      "text/html": [
       "\n",
       "<div id=\"altair-viz-b4dcfae64374449db90924c8c3643289\"></div>\n",
       "<script type=\"text/javascript\">\n",
       "  (function(spec, embedOpt){\n",
       "    let outputDiv = document.currentScript.previousElementSibling;\n",
       "    if (outputDiv.id !== \"altair-viz-b4dcfae64374449db90924c8c3643289\") {\n",
       "      outputDiv = document.getElementById(\"altair-viz-b4dcfae64374449db90924c8c3643289\");\n",
       "    }\n",
       "    const paths = {\n",
       "      \"vega\": \"https://cdn.jsdelivr.net/npm//vega@5?noext\",\n",
       "      \"vega-lib\": \"https://cdn.jsdelivr.net/npm//vega-lib?noext\",\n",
       "      \"vega-lite\": \"https://cdn.jsdelivr.net/npm//vega-lite@4.17.0?noext\",\n",
       "      \"vega-embed\": \"https://cdn.jsdelivr.net/npm//vega-embed@6?noext\",\n",
       "    };\n",
       "\n",
       "    function loadScript(lib) {\n",
       "      return new Promise(function(resolve, reject) {\n",
       "        var s = document.createElement('script');\n",
       "        s.src = paths[lib];\n",
       "        s.async = true;\n",
       "        s.onload = () => resolve(paths[lib]);\n",
       "        s.onerror = () => reject(`Error loading script: ${paths[lib]}`);\n",
       "        document.getElementsByTagName(\"head\")[0].appendChild(s);\n",
       "      });\n",
       "    }\n",
       "\n",
       "    function showError(err) {\n",
       "      outputDiv.innerHTML = `<div class=\"error\" style=\"color:red;\">${err}</div>`;\n",
       "      throw err;\n",
       "    }\n",
       "\n",
       "    function displayChart(vegaEmbed) {\n",
       "      vegaEmbed(outputDiv, spec, embedOpt)\n",
       "        .catch(err => showError(`Javascript Error: ${err.message}<br>This usually means there's a typo in your chart specification. See the javascript console for the full traceback.`));\n",
       "    }\n",
       "\n",
       "    if(typeof define === \"function\" && define.amd) {\n",
       "      requirejs.config({paths});\n",
       "      require([\"vega-embed\"], displayChart, err => showError(`Error loading script: ${err.message}`));\n",
       "    } else if (typeof vegaEmbed === \"function\") {\n",
       "      displayChart(vegaEmbed);\n",
       "    } else {\n",
       "      loadScript(\"vega\")\n",
       "        .then(() => loadScript(\"vega-lite\"))\n",
       "        .then(() => loadScript(\"vega-embed\"))\n",
       "        .catch(showError)\n",
       "        .then(() => displayChart(vegaEmbed));\n",
       "    }\n",
       "  })({\"config\": {\"view\": {\"continuousWidth\": 400, \"continuousHeight\": 300}}, \"data\": {\"name\": \"data-ea298ffc392704a55ed7b672f70ffcea\"}, \"mark\": \"bar\", \"encoding\": {\"color\": {\"field\": \"Time__quarter\", \"legend\": {\"title\": \"Time (quarter)\", \"format\": \"d\"}, \"type\": \"ordinal\"}, \"tooltip\": [{\"field\": \"Time__quarter\", \"title\": \"Time (quarter)\", \"type\": \"ordinal\", \"format\": \"d\"}, {\"field\": \"Year\", \"title\": \"Year\", \"type\": \"temporal\", \"format\": \"%-Y\"}, {\"field\": \"revenue__percent_within_Year\", \"title\": \"Revenue (%)\", \"type\": \"quantitative\", \"format\": \"01,.0%\"}], \"x\": {\"axis\": {\"title\": \"Year\", \"format\": \"%-Y\"}, \"field\": \"Year\", \"timeUnit\": \"year\", \"type\": \"temporal\"}, \"y\": {\"axis\": {\"title\": \"Revenue (%)\", \"format\": \"01,.0%\"}, \"field\": \"revenue__percent_within_Year\", \"type\": \"quantitative\"}}, \"$schema\": \"https://vega.github.io/schema/vega-lite/v4.17.0.json\", \"datasets\": {\"data-ea298ffc392704a55ed7b672f70ffcea\": [{\"Time__quarter\": 1, \"Year\": \"2009-01-01T00:00:00\", \"revenue__percent_within_Year\": 0.24669603524229075}, {\"Time__quarter\": 2, \"Year\": \"2009-01-01T00:00:00\", \"revenue__percent_within_Year\": 0.2511013215859031}, {\"Time__quarter\": 3, \"Year\": \"2009-01-01T00:00:00\", \"revenue__percent_within_Year\": 0.2511013215859031}, {\"Time__quarter\": 4, \"Year\": \"2009-01-01T00:00:00\", \"revenue__percent_within_Year\": 0.2511013215859031}, {\"Time__quarter\": 1, \"Year\": \"2010-01-01T00:00:00\", \"revenue__percent_within_Year\": 0.29880569114134387}, {\"Time__quarter\": 2, \"Year\": \"2010-01-01T00:00:00\", \"revenue__percent_within_Year\": 0.2344168657181431}, {\"Time__quarter\": 3, \"Year\": \"2010-01-01T00:00:00\", \"revenue__percent_within_Year\": 0.23236057742236993}, {\"Time__quarter\": 4, \"Year\": \"2010-01-01T00:00:00\", \"revenue__percent_within_Year\": 0.2344168657181431}, {\"Time__quarter\": 1, \"Year\": \"2011-01-01T00:00:00\", \"revenue__percent_within_Year\": 0.2403424336641254}, {\"Time__quarter\": 2, \"Year\": \"2011-01-01T00:00:00\", \"revenue__percent_within_Year\": 0.30848843647514806}, {\"Time__quarter\": 3, \"Year\": \"2011-01-01T00:00:00\", \"revenue__percent_within_Year\": 0.2403424336641254}, {\"Time__quarter\": 4, \"Year\": \"2011-01-01T00:00:00\", \"revenue__percent_within_Year\": 0.21082669619660122}, {\"Time__quarter\": 1, \"Year\": \"2012-01-01T00:00:00\", \"revenue__percent_within_Year\": 0.2363411722823697}, {\"Time__quarter\": 2, \"Year\": \"2012-01-01T00:00:00\", \"revenue__percent_within_Year\": 0.2363411722823697}, {\"Time__quarter\": 3, \"Year\": \"2012-01-01T00:00:00\", \"revenue__percent_within_Year\": 0.2805059367997822}, {\"Time__quarter\": 4, \"Year\": \"2012-01-01T00:00:00\", \"revenue__percent_within_Year\": 0.2468117186354784}, {\"Time__quarter\": 1, \"Year\": \"2013-01-01T00:00:00\", \"revenue__percent_within_Year\": 0.2285054818234276}, {\"Time__quarter\": 2, \"Year\": \"2013-01-01T00:00:00\", \"revenue__percent_within_Year\": 0.24168849039016382}, {\"Time__quarter\": 3, \"Year\": \"2013-01-01T00:00:00\", \"revenue__percent_within_Year\": 0.2504771627679879}, {\"Time__quarter\": 4, \"Year\": \"2013-01-01T00:00:00\", \"revenue__percent_within_Year\": 0.2793288650184207}]}}, {\"formatLocale\": {\"decimal\": \".\", \"thousands\": \",\", \"grouping\": [3, 3], \"currency\": [\"$\", \"\"]}, \"timeFormatLocale\": {\"dateTime\": \"%-m/%-d/%g, %-I:%m %p\", \"date\": \"%-m/%-d/%g\", \"time\": \"%-I:%m %p\", \"periods\": [\"AM\", \"PM\"], \"days\": [\"Sunday\", \"Monday\", \"Tuesday\", \"Wednesday\", \"Thursday\", \"Friday\", \"Saturday\"], \"shortDays\": [\"Sun\", \"Mon\", \"Tue\", \"Wed\", \"Thu\", \"Fri\", \"Sat\"], \"months\": [\"January\", \"February\", \"March\", \"April\", \"May\", \"June\", \"July\", \"August\", \"September\", \"October\", \"November\", \"December\"], \"shortMonths\": [\"Jan\", \"Feb\", \"Mar\", \"Apr\", \"May\", \"Jun\", \"Jul\", \"Aug\", \"Sep\", \"Oct\", \"Nov\", \"Dec\"]}, \"mode\": \"vega-lite\"});\n",
       "</script>"
      ],
      "text/plain": [
       "alt.Chart(...)"
      ]
     },
     "execution_count": 14,
     "metadata": {},
     "output_type": "execute_result"
    }
   ],
   "source": [
    "(\n",
    "    project.chart()\n",
    "    .mark_bar()\n",
    "    .encode(\n",
    "        x=d.Year,\n",
    "        y=Y(m.revenue.percent(within=[d.Year])),\n",
    "        color=Color(d.Time.quarter),\n",
    "    )\n",
    ")"
   ]
  },
  {
   "cell_type": "markdown",
   "metadata": {},
   "source": [
    "If you need to use Dictum filters or limits, you have to call them right after `chart()`.\n",
    "\n",
    "Let's see top 10 genres of music by revenue."
   ]
  },
  {
   "cell_type": "code",
   "execution_count": 15,
   "metadata": {},
   "outputs": [
    {
     "data": {
      "text/html": [
       "\n",
       "<div id=\"altair-viz-e8ea3b5d86ba4ba388557cb0ea66daae\"></div>\n",
       "<script type=\"text/javascript\">\n",
       "  (function(spec, embedOpt){\n",
       "    let outputDiv = document.currentScript.previousElementSibling;\n",
       "    if (outputDiv.id !== \"altair-viz-e8ea3b5d86ba4ba388557cb0ea66daae\") {\n",
       "      outputDiv = document.getElementById(\"altair-viz-e8ea3b5d86ba4ba388557cb0ea66daae\");\n",
       "    }\n",
       "    const paths = {\n",
       "      \"vega\": \"https://cdn.jsdelivr.net/npm//vega@5?noext\",\n",
       "      \"vega-lib\": \"https://cdn.jsdelivr.net/npm//vega-lib?noext\",\n",
       "      \"vega-lite\": \"https://cdn.jsdelivr.net/npm//vega-lite@4.17.0?noext\",\n",
       "      \"vega-embed\": \"https://cdn.jsdelivr.net/npm//vega-embed@6?noext\",\n",
       "    };\n",
       "\n",
       "    function loadScript(lib) {\n",
       "      return new Promise(function(resolve, reject) {\n",
       "        var s = document.createElement('script');\n",
       "        s.src = paths[lib];\n",
       "        s.async = true;\n",
       "        s.onload = () => resolve(paths[lib]);\n",
       "        s.onerror = () => reject(`Error loading script: ${paths[lib]}`);\n",
       "        document.getElementsByTagName(\"head\")[0].appendChild(s);\n",
       "      });\n",
       "    }\n",
       "\n",
       "    function showError(err) {\n",
       "      outputDiv.innerHTML = `<div class=\"error\" style=\"color:red;\">${err}</div>`;\n",
       "      throw err;\n",
       "    }\n",
       "\n",
       "    function displayChart(vegaEmbed) {\n",
       "      vegaEmbed(outputDiv, spec, embedOpt)\n",
       "        .catch(err => showError(`Javascript Error: ${err.message}<br>This usually means there's a typo in your chart specification. See the javascript console for the full traceback.`));\n",
       "    }\n",
       "\n",
       "    if(typeof define === \"function\" && define.amd) {\n",
       "      requirejs.config({paths});\n",
       "      require([\"vega-embed\"], displayChart, err => showError(`Error loading script: ${err.message}`));\n",
       "    } else if (typeof vegaEmbed === \"function\") {\n",
       "      displayChart(vegaEmbed);\n",
       "    } else {\n",
       "      loadScript(\"vega\")\n",
       "        .then(() => loadScript(\"vega-lite\"))\n",
       "        .then(() => loadScript(\"vega-embed\"))\n",
       "        .catch(showError)\n",
       "        .then(() => displayChart(vegaEmbed));\n",
       "    }\n",
       "  })({\"config\": {\"view\": {\"continuousWidth\": 400, \"continuousHeight\": 300}}, \"data\": {\"name\": \"data-fda9337d5c89ea6f39d83dba71f01a5f\"}, \"mark\": \"bar\", \"encoding\": {\"tooltip\": [{\"field\": \"genre\", \"title\": \"Genre\", \"type\": \"nominal\"}, {\"field\": \"revenue\", \"title\": \"Revenue\", \"type\": \"quantitative\", \"format\": \"$01,.2f\"}], \"x\": {\"axis\": {\"title\": \"Revenue\", \"format\": \"$01,.2f\"}, \"field\": \"revenue\", \"type\": \"quantitative\"}, \"y\": {\"axis\": {\"title\": \"Genre of Music\"}, \"field\": \"genre\", \"sort\": \"-x\", \"type\": \"nominal\"}}, \"$schema\": \"https://vega.github.io/schema/vega-lite/v4.17.0.json\", \"datasets\": {\"data-fda9337d5c89ea6f39d83dba71f01a5f\": [{\"genre\": \"Alternative & Punk\", \"revenue\": 241.56}, {\"genre\": \"Blues\", \"revenue\": 60.39}, {\"genre\": \"Classical\", \"revenue\": 40.59}, {\"genre\": \"Jazz\", \"revenue\": 79.2}, {\"genre\": \"Latin\", \"revenue\": 382.14}, {\"genre\": \"Metal\", \"revenue\": 261.36}, {\"genre\": \"Pop\", \"revenue\": 27.72}, {\"genre\": \"R&B/Soul\", \"revenue\": 40.59}, {\"genre\": \"Reggae\", \"revenue\": 29.7}, {\"genre\": \"Rock\", \"revenue\": 826.65}]}}, {\"formatLocale\": {\"decimal\": \".\", \"thousands\": \",\", \"grouping\": [3, 3], \"currency\": [\"$\", \"\"]}, \"timeFormatLocale\": {\"dateTime\": \"%-m/%-d/%g, %-I:%m %p\", \"date\": \"%-m/%-d/%g\", \"time\": \"%-I:%m %p\", \"periods\": [\"AM\", \"PM\"], \"days\": [\"Sunday\", \"Monday\", \"Tuesday\", \"Wednesday\", \"Thursday\", \"Friday\", \"Saturday\"], \"shortDays\": [\"Sun\", \"Mon\", \"Tue\", \"Wed\", \"Thu\", \"Fri\", \"Sat\"], \"months\": [\"January\", \"February\", \"March\", \"April\", \"May\", \"June\", \"July\", \"August\", \"September\", \"October\", \"November\", \"December\"], \"shortMonths\": [\"Jan\", \"Feb\", \"Mar\", \"Apr\", \"May\", \"Jun\", \"Jul\", \"Aug\", \"Sep\", \"Oct\", \"Nov\", \"Dec\"]}, \"mode\": \"vega-lite\"});\n",
       "</script>"
      ],
      "text/plain": [
       "alt.Chart(...)"
      ]
     },
     "execution_count": 15,
     "metadata": {},
     "output_type": "execute_result"
    }
   ],
   "source": [
    "(\n",
    "    project.chart()\n",
    "    .where(d.music)\n",
    "    .limit(m.revenue.top(10))\n",
    "    .mark_bar()\n",
    "    .encode(\n",
    "        x=m.revenue,\n",
    "        y=Y(d.genre, axis={\"title\": \"Genre of Music\"}, sort=\"-x\"),\n",
    "    )\n",
    ")\n"
   ]
  },
  {
   "cell_type": "markdown",
   "metadata": {},
   "source": [
    "You can use repeat to select multiple metrics."
   ]
  },
  {
   "cell_type": "code",
   "execution_count": 16,
   "metadata": {},
   "outputs": [
    {
     "data": {
      "text/html": [
       "\n",
       "<div id=\"altair-viz-99d8094025a24d78a4cf184760075cc6\"></div>\n",
       "<script type=\"text/javascript\">\n",
       "  (function(spec, embedOpt){\n",
       "    let outputDiv = document.currentScript.previousElementSibling;\n",
       "    if (outputDiv.id !== \"altair-viz-99d8094025a24d78a4cf184760075cc6\") {\n",
       "      outputDiv = document.getElementById(\"altair-viz-99d8094025a24d78a4cf184760075cc6\");\n",
       "    }\n",
       "    const paths = {\n",
       "      \"vega\": \"https://cdn.jsdelivr.net/npm//vega@5?noext\",\n",
       "      \"vega-lib\": \"https://cdn.jsdelivr.net/npm//vega-lib?noext\",\n",
       "      \"vega-lite\": \"https://cdn.jsdelivr.net/npm//vega-lite@4.17.0?noext\",\n",
       "      \"vega-embed\": \"https://cdn.jsdelivr.net/npm//vega-embed@6?noext\",\n",
       "    };\n",
       "\n",
       "    function loadScript(lib) {\n",
       "      return new Promise(function(resolve, reject) {\n",
       "        var s = document.createElement('script');\n",
       "        s.src = paths[lib];\n",
       "        s.async = true;\n",
       "        s.onload = () => resolve(paths[lib]);\n",
       "        s.onerror = () => reject(`Error loading script: ${paths[lib]}`);\n",
       "        document.getElementsByTagName(\"head\")[0].appendChild(s);\n",
       "      });\n",
       "    }\n",
       "\n",
       "    function showError(err) {\n",
       "      outputDiv.innerHTML = `<div class=\"error\" style=\"color:red;\">${err}</div>`;\n",
       "      throw err;\n",
       "    }\n",
       "\n",
       "    function displayChart(vegaEmbed) {\n",
       "      vegaEmbed(outputDiv, spec, embedOpt)\n",
       "        .catch(err => showError(`Javascript Error: ${err.message}<br>This usually means there's a typo in your chart specification. See the javascript console for the full traceback.`));\n",
       "    }\n",
       "\n",
       "    if(typeof define === \"function\" && define.amd) {\n",
       "      requirejs.config({paths});\n",
       "      require([\"vega-embed\"], displayChart, err => showError(`Error loading script: ${err.message}`));\n",
       "    } else if (typeof vegaEmbed === \"function\") {\n",
       "      displayChart(vegaEmbed);\n",
       "    } else {\n",
       "      loadScript(\"vega\")\n",
       "        .then(() => loadScript(\"vega-lite\"))\n",
       "        .then(() => loadScript(\"vega-embed\"))\n",
       "        .catch(showError)\n",
       "        .then(() => displayChart(vegaEmbed));\n",
       "    }\n",
       "  })({\"config\": {\"view\": {\"continuousWidth\": 400, \"continuousHeight\": 300}}, \"repeat\": [\"revenue\", \"unique_paying_customers\"], \"spec\": {\"data\": {\"name\": \"data-1c50802bd30cada813728ce4c117e1b3\"}, \"mark\": \"bar\", \"encoding\": {\"tooltip\": [{\"field\": \"genre\", \"title\": \"Genre\", \"type\": \"nominal\"}, {\"field\": \"revenue\", \"title\": \"Revenue\", \"type\": \"quantitative\", \"format\": \"$01,.2f\"}, {\"field\": \"unique_paying_customers\", \"title\": \"Unique Paying Customers\", \"type\": \"quantitative\", \"format\": \"01,.3~f\"}], \"x\": {\"field\": {\"repeat\": \"repeat\"}, \"type\": \"quantitative\"}, \"y\": {\"axis\": {\"title\": \"Genre of Music\"}, \"field\": \"genre\", \"sort\": \"-x\", \"type\": \"nominal\"}}, \"width\": 200}, \"$schema\": \"https://vega.github.io/schema/vega-lite/v4.17.0.json\", \"datasets\": {\"data-1c50802bd30cada813728ce4c117e1b3\": [{\"genre\": \"Alternative & Punk\", \"revenue\": 241.56, \"unique_paying_customers\": 50}, {\"genre\": \"Blues\", \"revenue\": 60.39, \"unique_paying_customers\": 23}, {\"genre\": \"Classical\", \"revenue\": 40.59, \"unique_paying_customers\": 14}, {\"genre\": \"Jazz\", \"revenue\": 79.2, \"unique_paying_customers\": 32}, {\"genre\": \"Latin\", \"revenue\": 382.14, \"unique_paying_customers\": 56}, {\"genre\": \"Metal\", \"revenue\": 261.36, \"unique_paying_customers\": 55}, {\"genre\": \"Pop\", \"revenue\": 27.72, \"unique_paying_customers\": 13}, {\"genre\": \"R&B/Soul\", \"revenue\": 40.59, \"unique_paying_customers\": 17}, {\"genre\": \"Reggae\", \"revenue\": 29.7, \"unique_paying_customers\": 12}, {\"genre\": \"Rock\", \"revenue\": 826.65, \"unique_paying_customers\": 59}]}}, {\"formatLocale\": {\"decimal\": \".\", \"thousands\": \",\", \"grouping\": [3, 3], \"currency\": [\"$\", \"\"]}, \"timeFormatLocale\": {\"dateTime\": \"%-m/%-d/%g, %-I:%m %p\", \"date\": \"%-m/%-d/%g\", \"time\": \"%-I:%m %p\", \"periods\": [\"AM\", \"PM\"], \"days\": [\"Sunday\", \"Monday\", \"Tuesday\", \"Wednesday\", \"Thursday\", \"Friday\", \"Saturday\"], \"shortDays\": [\"Sun\", \"Mon\", \"Tue\", \"Wed\", \"Thu\", \"Fri\", \"Sat\"], \"months\": [\"January\", \"February\", \"March\", \"April\", \"May\", \"June\", \"July\", \"August\", \"September\", \"October\", \"November\", \"December\"], \"shortMonths\": [\"Jan\", \"Feb\", \"Mar\", \"Apr\", \"May\", \"Jun\", \"Jul\", \"Aug\", \"Sep\", \"Oct\", \"Nov\", \"Dec\"]}, \"mode\": \"vega-lite\"});\n",
       "</script>"
      ],
      "text/plain": [
       "alt.RepeatChart(...)"
      ]
     },
     "execution_count": 16,
     "metadata": {},
     "output_type": "execute_result"
    }
   ],
   "source": [
    "import altair as alt\n",
    "\n",
    "\n",
    "(\n",
    "    project.chart()\n",
    "    .where(d.music)\n",
    "    .limit(m.revenue.top(10))\n",
    "    .mark_bar()\n",
    "    .encode(\n",
    "        x=X(alt.repeat(), type=\"quantitative\"),\n",
    "        y=Y(d.genre, axis={\"title\": \"Genre of Music\"}, sort=\"-x\"),\n",
    "    )\n",
    "    .properties(width=200)\n",
    "    .repeat([m.revenue, m.unique_paying_customers])\n",
    ")\n"
   ]
  }
 ],
 "metadata": {
  "kernelspec": {
   "display_name": "Python 3.9.10 ('dictum-rElINzsF-py3.9')",
   "language": "python",
   "name": "python3"
  },
  "language_info": {
   "codemirror_mode": {
    "name": "ipython",
    "version": 3
   },
   "file_extension": ".py",
   "mimetype": "text/x-python",
   "name": "python",
   "nbconvert_exporter": "python",
   "pygments_lexer": "ipython3",
   "version": "3.9.10"
  },
  "orig_nbformat": 4,
  "vscode": {
   "interpreter": {
    "hash": "ec40704da5258e45267b854791f95634f5402d9812ac18870451eea536ae27ba"
   }
  }
 },
 "nbformat": 4,
 "nbformat_minor": 2
}
